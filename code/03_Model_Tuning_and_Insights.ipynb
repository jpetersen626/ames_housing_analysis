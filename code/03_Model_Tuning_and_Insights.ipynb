{
 "cells": [
  {
   "cell_type": "markdown",
   "id": "3934226c-58ce-4f49-a141-393d349f05cf",
   "metadata": {},
   "source": [
    "## Model Tuning"
   ]
  },
  {
   "cell_type": "code",
   "execution_count": 19,
   "id": "b93d3b52-3021-4666-9234-b34596d3926b",
   "metadata": {},
   "outputs": [],
   "source": [
    "import pandas as pd\n",
    "import numpy as np\n",
    "import seaborn as sns\n",
    "import matplotlib.pyplot as plt\n",
    "from sklearn.linear_model import LinearRegression, LassoCV, RidgeCV, Lasso, Ridge\n",
    "from sklearn.preprocessing import PolynomialFeatures, StandardScaler\n",
    "from sklearn.metrics import r2_score, mean_squared_error\n",
    "from sklearn.model_selection import train_test_split, cross_val_score, GridSearchCV\n",
    "from sklearn.pipeline import Pipeline\n",
    "from sklearn.impute import SimpleImputer\n",
    "from sklearn.preprocessing import StandardScaler, OneHotEncoder\n",
    "from sklearn.compose import ColumnTransformer"
   ]
  },
  {
   "cell_type": "code",
   "execution_count": 20,
   "id": "fbd63a19-4ecd-47ae-b89f-f9729819240a",
   "metadata": {},
   "outputs": [],
   "source": [
    "train = pd.read_csv('../datasets/train_cleaned.csv', keep_default_na=False, na_values='')\n",
    "test = pd.read_csv('../datasets/test_cleaned.csv', keep_default_na=False, na_values='')"
   ]
  },
  {
   "cell_type": "markdown",
   "id": "a79e5f51-58b1-4c64-826a-b300da56ec62",
   "metadata": {},
   "source": [
    "### Ridge Model"
   ]
  },
  {
   "cell_type": "code",
   "execution_count": 69,
   "id": "d6ae9803-316e-4724-bd59-b229af394f02",
   "metadata": {},
   "outputs": [],
   "source": [
    "# https://scikit-learn.org/stable/auto_examples/compose/plot_column_transformer_mixed_types.html\n",
    "\n",
    "SimpleImputer.get_feature_names_out = (lambda self, names=None:\n",
    "                                       self.feature_names_in_)\n",
    "\n",
    "numeric = ['mas_vnr_area', 'bsmtfin_sf_1', 'total_bsmt_sf', '1st_flr_sf', 'gr_liv_area', 'garage_area']\n",
    "numeric_transformer = Pipeline(\n",
    "    steps = [\n",
    "        ('imputer', SimpleImputer(strategy='mean')),\n",
    "        ('ss', StandardScaler())\n",
    "    ])\n",
    "\n",
    "categorical = [\n",
    "    'overall_qual', 'overall_cond', 'roof_matl', 'mas_vnr_type', \n",
    "    'foundation', 'exter_qual', 'exter_cond', 'bsmt_qual',\n",
    "    'bsmt_cond', 'bsmt_exposure', 'bsmtfin_type_1', \n",
    "    'bsmtfin_type_2', 'heating_qc', 'central_air', 'electrical',\n",
    "    'bsmt_full_bath', 'full_bath', 'kitchen_qual', 'totrms_abvgrd',\n",
    "    'fireplaces', 'fireplace_qu', 'garage_type', 'garage_finish', \n",
    "    'garage_cars', 'garage_qual', 'paved_drive'\n",
    "]\n",
    "categorical_transformer = Pipeline(\n",
    "    steps = [\n",
    "        ('imputer', SimpleImputer(strategy='most_frequent')),\n",
    "        ('ohe', OneHotEncoder(drop='first', handle_unknown='ignore', sparse=False))\n",
    "    ])\n",
    "\n",
    "preprocessor = ColumnTransformer(\n",
    "    transformers = [\n",
    "        ('num', numeric_transformer, numeric),\n",
    "        ('cat', categorical_transformer, categorical)\n",
    "    ], remainder='passthrough', verbose_feature_names_out=False)\n",
    "\n",
    "ridge_pipe = Pipeline(\n",
    "    steps = [\n",
    "        ('preprocessor', preprocessor),\n",
    "        ('classifier', RidgeCV())\n",
    "    ])"
   ]
  },
  {
   "cell_type": "code",
   "execution_count": 70,
   "id": "a5e15b3f-3ff3-4f27-bcfe-ad942d8a88a8",
   "metadata": {},
   "outputs": [],
   "source": [
    "X = train[['mas_vnr_area', 'bsmtfin_sf_1', 'total_bsmt_sf', \n",
    "    '1st_flr_sf', 'gr_liv_area', 'garage_area', 'overall_qual', \n",
    "    'overall_cond', 'roof_matl', 'mas_vnr_type', 'foundation', \n",
    "    'exter_qual', 'exter_cond', 'bsmt_qual','bsmt_cond', \n",
    "    'bsmt_exposure', 'bsmtfin_type_1', 'bsmtfin_type_2', \n",
    "    'heating_qc', 'central_air', 'electrical','bsmt_full_bath', \n",
    "    'full_bath', 'kitchen_qual', 'totrms_abvgrd', 'fireplaces', \n",
    "    'fireplace_qu', 'garage_type', 'garage_finish', 'garage_cars', \n",
    "    'garage_qual', 'paved_drive']]\n",
    "y = train['saleprice']\n",
    "\n",
    "X_train, X_test, y_train, y_test = train_test_split(X, y, test_size=0.2, random_state=42)"
   ]
  },
  {
   "cell_type": "code",
   "execution_count": 71,
   "id": "08d68901-d58f-4c31-b8ff-432b71422a2a",
   "metadata": {},
   "outputs": [
    {
     "data": {
      "text/plain": [
       "Pipeline(steps=[('preprocessor',\n",
       "                 ColumnTransformer(remainder='passthrough',\n",
       "                                   transformers=[('num',\n",
       "                                                  Pipeline(steps=[('imputer',\n",
       "                                                                   SimpleImputer()),\n",
       "                                                                  ('ss',\n",
       "                                                                   StandardScaler())]),\n",
       "                                                  ['mas_vnr_area',\n",
       "                                                   'bsmtfin_sf_1',\n",
       "                                                   'total_bsmt_sf',\n",
       "                                                   '1st_flr_sf', 'gr_liv_area',\n",
       "                                                   'garage_area']),\n",
       "                                                 ('cat',\n",
       "                                                  Pipeline(steps=[('imputer',\n",
       "                                                                   SimpleImputer(strategy='most_frequent')),\n",
       "                                                                  ('ohe',\n",
       "                                                                   OneHotEncoder...\n",
       "                                                   'bsmt_qual', 'bsmt_cond',\n",
       "                                                   'bsmt_exposure',\n",
       "                                                   'bsmtfin_type_1',\n",
       "                                                   'bsmtfin_type_2',\n",
       "                                                   'heating_qc', 'central_air',\n",
       "                                                   'electrical',\n",
       "                                                   'bsmt_full_bath',\n",
       "                                                   'full_bath', 'kitchen_qual',\n",
       "                                                   'totrms_abvgrd',\n",
       "                                                   'fireplaces', 'fireplace_qu',\n",
       "                                                   'garage_type',\n",
       "                                                   'garage_finish',\n",
       "                                                   'garage_cars', 'garage_qual',\n",
       "                                                   'paved_drive'])],\n",
       "                                   verbose_feature_names_out=False)),\n",
       "                ('classifier', RidgeCV(alphas=array([ 0.1,  1. , 10. ])))])"
      ]
     },
     "execution_count": 71,
     "metadata": {},
     "output_type": "execute_result"
    }
   ],
   "source": [
    "ridge_pipe.fit(X_train, y_train)"
   ]
  },
  {
   "cell_type": "code",
   "execution_count": 72,
   "id": "f3829730-4a58-4056-a037-8d379c26a633",
   "metadata": {},
   "outputs": [
    {
     "name": "stderr",
     "output_type": "stream",
     "text": [
      "C:\\Users\\jacki\\anaconda3\\lib\\site-packages\\sklearn\\preprocessing\\_encoders.py:170: UserWarning: Found unknown categories in columns [18] during transform. These unknown categories will be encoded as all zeros\n",
      "  warnings.warn(\n"
     ]
    },
    {
     "data": {
      "text/plain": [
       "(0.9178700362072286, 0.9004000793875788)"
      ]
     },
     "execution_count": 72,
     "metadata": {},
     "output_type": "execute_result"
    }
   ],
   "source": [
    "ridge_pipe.score(X_train, y_train), ridge_pipe.score(X_test, y_test)"
   ]
  },
  {
   "cell_type": "markdown",
   "id": "55fe9685-71cb-480b-8740-6a3a13f34480",
   "metadata": {},
   "source": [
    "These r2 scores are much better than the linear regression model, and much closer together."
   ]
  },
  {
   "cell_type": "code",
   "execution_count": 73,
   "id": "55eaf242-c0af-4aaa-8681-cd680a2cefdd",
   "metadata": {},
   "outputs": [
    {
     "data": {
      "text/plain": [
       "20793.622830997287"
      ]
     },
     "execution_count": 73,
     "metadata": {},
     "output_type": "execute_result"
    }
   ],
   "source": [
    "mean_squared_error(y_train, ridge_pipe.predict(X_train))**0.5"
   ]
  },
  {
   "cell_type": "code",
   "execution_count": 74,
   "id": "7e888445-fcad-4cab-9f52-d3786ba2aac5",
   "metadata": {},
   "outputs": [
    {
     "name": "stderr",
     "output_type": "stream",
     "text": [
      "C:\\Users\\jacki\\anaconda3\\lib\\site-packages\\sklearn\\preprocessing\\_encoders.py:170: UserWarning: Found unknown categories in columns [18] during transform. These unknown categories will be encoded as all zeros\n",
      "  warnings.warn(\n"
     ]
    },
    {
     "data": {
      "text/plain": [
       "24607.075784686036"
      ]
     },
     "execution_count": 74,
     "metadata": {},
     "output_type": "execute_result"
    }
   ],
   "source": [
    "mean_squared_error(y_test, ridge_pipe.predict(X_test))**0.5"
   ]
  },
  {
   "cell_type": "markdown",
   "id": "7d3b0208-6b61-4c7a-9195-d010f38afb55",
   "metadata": {},
   "source": [
    "The RMSE's here is similar to the linear regression model - it's doing much better than the baseline."
   ]
  },
  {
   "cell_type": "code",
   "execution_count": 75,
   "id": "5467c241-4923-4e36-976a-86aa9ed89261",
   "metadata": {},
   "outputs": [
    {
     "data": {
      "text/plain": [
       "array(['mas_vnr_area', 'bsmtfin_sf_1', 'total_bsmt_sf', '1st_flr_sf',\n",
       "       'gr_liv_area', 'garage_area', 'overall_qual_2', 'overall_qual_3',\n",
       "       'overall_qual_4', 'overall_qual_5', 'overall_qual_6',\n",
       "       'overall_qual_7', 'overall_qual_8', 'overall_qual_9',\n",
       "       'overall_qual_10', 'overall_cond_2', 'overall_cond_3',\n",
       "       'overall_cond_4', 'overall_cond_5', 'overall_cond_6',\n",
       "       'overall_cond_7', 'overall_cond_8', 'overall_cond_9',\n",
       "       'roof_matl_Membran', 'roof_matl_Tar&Grv', 'roof_matl_WdShake',\n",
       "       'roof_matl_WdShngl', 'mas_vnr_type_BrkFace', 'mas_vnr_type_None',\n",
       "       'mas_vnr_type_Stone', 'foundation_CBlock', 'foundation_PConc',\n",
       "       'foundation_Slab', 'foundation_Stone', 'foundation_Wood',\n",
       "       'exter_qual_3', 'exter_qual_4', 'exter_qual_5', 'exter_cond_2',\n",
       "       'exter_cond_3', 'exter_cond_4', 'exter_cond_5', 'bsmt_qual_1.0',\n",
       "       'bsmt_qual_2.0', 'bsmt_qual_3.0', 'bsmt_qual_4.0', 'bsmt_qual_5.0',\n",
       "       'bsmt_cond_1.0', 'bsmt_cond_2.0', 'bsmt_cond_3.0', 'bsmt_cond_4.0',\n",
       "       'bsmt_cond_5.0', 'bsmt_exposure_1.0', 'bsmt_exposure_2.0',\n",
       "       'bsmt_exposure_3.0', 'bsmt_exposure_4.0', 'bsmtfin_type_1_1.0',\n",
       "       'bsmtfin_type_1_2.0', 'bsmtfin_type_1_3.0', 'bsmtfin_type_1_4.0',\n",
       "       'bsmtfin_type_1_5.0', 'bsmtfin_type_1_6.0', 'bsmtfin_type_2_1.0',\n",
       "       'bsmtfin_type_2_2.0', 'bsmtfin_type_2_3.0', 'bsmtfin_type_2_4.0',\n",
       "       'bsmtfin_type_2_5.0', 'bsmtfin_type_2_6.0', 'heating_qc_2',\n",
       "       'heating_qc_3', 'heating_qc_4', 'heating_qc_5', 'central_air_Y',\n",
       "       'electrical_2', 'electrical_3', 'electrical_4', 'electrical_5',\n",
       "       'bsmt_full_bath_1.0', 'bsmt_full_bath_2.0', 'bsmt_full_bath_3.0',\n",
       "       'full_bath_1', 'full_bath_2', 'full_bath_3', 'full_bath_4',\n",
       "       'kitchen_qual_3', 'kitchen_qual_4', 'kitchen_qual_5',\n",
       "       'totrms_abvgrd_4', 'totrms_abvgrd_5', 'totrms_abvgrd_6',\n",
       "       'totrms_abvgrd_7', 'totrms_abvgrd_8', 'totrms_abvgrd_9',\n",
       "       'totrms_abvgrd_10', 'totrms_abvgrd_11', 'totrms_abvgrd_12',\n",
       "       'totrms_abvgrd_13', 'totrms_abvgrd_14', 'fireplaces_1',\n",
       "       'fireplaces_2', 'fireplaces_3', 'fireplaces_4', 'fireplace_qu_1',\n",
       "       'fireplace_qu_2', 'fireplace_qu_3', 'fireplace_qu_4',\n",
       "       'fireplace_qu_5', 'garage_type_Attchd', 'garage_type_Basment',\n",
       "       'garage_type_BuiltIn', 'garage_type_CarPort', 'garage_type_Detchd',\n",
       "       'garage_type_NA', 'garage_finish_1.0', 'garage_finish_2.0',\n",
       "       'garage_finish_3.0', 'garage_cars_1.0', 'garage_cars_2.0',\n",
       "       'garage_cars_3.0', 'garage_cars_4.0', 'garage_cars_5.0',\n",
       "       'garage_qual_1.0', 'garage_qual_2.0', 'garage_qual_3.0',\n",
       "       'garage_qual_4.0', 'garage_qual_5.0', 'paved_drive_2',\n",
       "       'paved_drive_3'], dtype=object)"
      ]
     },
     "execution_count": 75,
     "metadata": {},
     "output_type": "execute_result"
    }
   ],
   "source": [
    "ridge_pipe.named_steps['preprocessor'].get_feature_names_out()"
   ]
  },
  {
   "cell_type": "code",
   "execution_count": 76,
   "id": "289e2e53-53de-4779-a880-bf7040645b64",
   "metadata": {},
   "outputs": [],
   "source": [
    "model_coefs = pd.Series(ridge_pipe.named_steps['classifier'].coef_, \n",
    "        index=ridge_pipe.named_steps['preprocessor'].get_feature_names_out())"
   ]
  },
  {
   "cell_type": "code",
   "execution_count": 79,
   "id": "03237985-844b-4206-ae09-c3d71a6d4f40",
   "metadata": {},
   "outputs": [
    {
     "data": {
      "text/plain": [
       "roof_matl_WdShake   -15006.653597\n",
       "overall_qual_4      -14763.098253\n",
       "overall_qual_3      -13025.221719\n",
       "overall_cond_2      -12667.290331\n",
       "totrms_abvgrd_12    -12284.645018\n",
       "                         ...     \n",
       "exter_qual_5         26633.580037\n",
       "overall_cond_8       28205.541539\n",
       "overall_qual_9       45815.740605\n",
       "roof_matl_WdShngl    49643.544760\n",
       "overall_qual_10      72487.860762\n",
       "Length: 128, dtype: float64"
      ]
     },
     "execution_count": 79,
     "metadata": {},
     "output_type": "execute_result"
    }
   ],
   "source": [
    "model_coefs.sort_values()"
   ]
  },
  {
   "cell_type": "markdown",
   "id": "6cbba687-5665-4bbe-ba88-5b98047c796c",
   "metadata": {},
   "source": [
    "**This ridge model is an improvement. Since there are numerous features, I decided to do the lasso to compare.**"
   ]
  },
  {
   "cell_type": "code",
   "execution_count": 30,
   "id": "c151a217-ac7b-4af9-8e8d-af2bb041b277",
   "metadata": {},
   "outputs": [
    {
     "name": "stderr",
     "output_type": "stream",
     "text": [
      "C:\\Users\\jacki\\anaconda3\\lib\\site-packages\\sklearn\\preprocessing\\_encoders.py:170: UserWarning: Found unknown categories in columns [2, 3, 17] during transform. These unknown categories will be encoded as all zeros\n",
      "  warnings.warn(\n"
     ]
    }
   ],
   "source": [
    "test_id = test['id']\n",
    "\n",
    "ridge_preds = ridge_pipe.predict(test[X.columns])\n",
    "\n",
    "ridge_preds = pd.DataFrame(ridge_preds, columns=['SalePrice'])\n",
    "\n",
    "ridge_preds.insert(loc=0, column='Id', value=test_id)"
   ]
  },
  {
   "cell_type": "code",
   "execution_count": 31,
   "id": "ad604ab5-d309-47af-a2c8-0f2a515763a1",
   "metadata": {},
   "outputs": [],
   "source": [
    "ridge_preds.to_csv('../submissions/ridge.csv', index=False)"
   ]
  },
  {
   "cell_type": "code",
   "execution_count": 32,
   "id": "34ee0e41-b354-4036-84ca-7fe0e5c2ad18",
   "metadata": {},
   "outputs": [
    {
     "data": {
      "image/png": "[encoded data removed]",
      "text/plain": [
       "<Figure size 432x288 with 1 Axes>"
      ]
     },
     "metadata": {
      "needs_background": "light"
     },
     "output_type": "display_data"
    }
   ],
   "source": [
    "sns.residplot(x = ridge_pipe.predict(X_train),\n",
    "              y = y_train - ridge_pipe.predict(X_train),\n",
    "              lowess = True, \n",
    "              line_kws = {'color' : 'orange'})\\\n",
    "    .set(title = 'RidgeCV Residuals vs. fits plot',\n",
    "        xlabel = 'Predicted value',\n",
    "        ylabel = 'Residual value');"
   ]
  },
  {
   "cell_type": "code",
   "execution_count": 33,
   "id": "e35ac1e0-f604-4c76-a2c7-055e424e3b36",
   "metadata": {},
   "outputs": [
    {
     "name": "stderr",
     "output_type": "stream",
     "text": [
      "C:\\Users\\jacki\\anaconda3\\lib\\site-packages\\sklearn\\preprocessing\\_encoders.py:170: UserWarning: Found unknown categories in columns [18] during transform. These unknown categories will be encoded as all zeros\n",
      "  warnings.warn(\n",
      "C:\\Users\\jacki\\anaconda3\\lib\\site-packages\\sklearn\\preprocessing\\_encoders.py:170: UserWarning: Found unknown categories in columns [18] during transform. These unknown categories will be encoded as all zeros\n",
      "  warnings.warn(\n"
     ]
    },
    {
     "data": {
      "image/png": "[encoded data removed]",
      "text/plain": [
       "<Figure size 432x288 with 1 Axes>"
      ]
     },
     "metadata": {
      "needs_background": "light"
     },
     "output_type": "display_data"
    }
   ],
   "source": [
    "sns.residplot(x = ridge_pipe.predict(X_test),\n",
    "              y = y_test - ridge_pipe.predict(X_test),\n",
    "              lowess = True, \n",
    "              line_kws = {'color' : 'orange'})\\\n",
    "    .set(title = 'RidgeCV Residuals vs. fits plot',\n",
    "        xlabel = 'Predicted value',\n",
    "        ylabel = 'Residual value');"
   ]
  },
  {
   "cell_type": "markdown",
   "id": "d20526ac-19e6-41e0-b721-ca2f357dbd72",
   "metadata": {},
   "source": [
    "---"
   ]
  },
  {
   "cell_type": "markdown",
   "id": "626b584c-a944-4911-a90f-750516fa3cc1",
   "metadata": {},
   "source": [
    "### Lasso Model"
   ]
  },
  {
   "cell_type": "code",
   "execution_count": 80,
   "id": "33084d7a-355a-418e-9f63-7c73606690ea",
   "metadata": {},
   "outputs": [],
   "source": [
    "# https://scikit-learn.org/stable/auto_examples/compose/plot_column_transformer_mixed_types.html\n",
    "\n",
    "SimpleImputer.get_feature_names_out = (lambda self, names=None:\n",
    "                                       self.feature_names_in_)\n",
    "\n",
    "numeric = ['mas_vnr_area', 'bsmtfin_sf_1', 'total_bsmt_sf', '1st_flr_sf', 'gr_liv_area', 'garage_area']\n",
    "numeric_transformer = Pipeline(\n",
    "    steps = [\n",
    "        ('imputer', SimpleImputer(strategy='mean')),\n",
    "        ('ss', StandardScaler())\n",
    "    ])\n",
    "\n",
    "categorical = [\n",
    "    'overall_qual', 'overall_cond', 'roof_matl', 'mas_vnr_type', \n",
    "    'foundation', 'exter_qual', 'exter_cond', 'bsmt_qual',\n",
    "    'bsmt_cond', 'bsmt_exposure', 'bsmtfin_type_1', \n",
    "    'bsmtfin_type_2', 'heating_qc', 'central_air', 'electrical',\n",
    "    'bsmt_full_bath', 'full_bath', 'kitchen_qual', 'totrms_abvgrd',\n",
    "    'fireplaces', 'fireplace_qu', 'garage_type', 'garage_finish', \n",
    "    'garage_cars', 'garage_qual', 'paved_drive'\n",
    "]\n",
    "categorical_transformer = Pipeline(\n",
    "    steps = [\n",
    "        ('imputer', SimpleImputer(strategy='most_frequent')),\n",
    "        ('ohe', OneHotEncoder(drop='first', handle_unknown='ignore', sparse=False))\n",
    "    ])\n",
    "\n",
    "preprocessor = ColumnTransformer(\n",
    "    transformers = [\n",
    "        ('num', numeric_transformer, numeric),\n",
    "        ('cat', categorical_transformer, categorical)\n",
    "    ], remainder='passthrough', verbose_feature_names_out=False)\n",
    "\n",
    "lasso_pipe = Pipeline(\n",
    "    steps = [\n",
    "        ('preprocessor', preprocessor),\n",
    "        ('classifier', LassoCV())\n",
    "    ])"
   ]
  },
  {
   "cell_type": "code",
   "execution_count": 81,
   "id": "ed1e936f-837a-4821-918c-2be9a2be6c6c",
   "metadata": {},
   "outputs": [],
   "source": [
    "X = train[['mas_vnr_area', 'bsmtfin_sf_1', 'total_bsmt_sf', \n",
    "    '1st_flr_sf', 'gr_liv_area', 'garage_area', 'overall_qual', \n",
    "    'overall_cond', 'roof_matl', 'mas_vnr_type', 'foundation', \n",
    "    'exter_qual', 'exter_cond', 'bsmt_qual','bsmt_cond', \n",
    "    'bsmt_exposure', 'bsmtfin_type_1', 'bsmtfin_type_2', \n",
    "    'heating_qc', 'central_air', 'electrical','bsmt_full_bath', \n",
    "    'full_bath', 'kitchen_qual', 'totrms_abvgrd', 'fireplaces', \n",
    "    'fireplace_qu', 'garage_type', 'garage_finish', 'garage_cars', \n",
    "    'garage_qual', 'paved_drive']]\n",
    "y = train['saleprice']\n",
    "\n",
    "X_train, X_test, y_train, y_test = train_test_split(X, y, test_size=0.2, random_state=42)"
   ]
  },
  {
   "cell_type": "code",
   "execution_count": 82,
   "id": "d9c27472-716f-4ed2-b752-4934df5e2de1",
   "metadata": {},
   "outputs": [
    {
     "data": {
      "text/plain": [
       "Pipeline(steps=[('preprocessor',\n",
       "                 ColumnTransformer(remainder='passthrough',\n",
       "                                   transformers=[('num',\n",
       "                                                  Pipeline(steps=[('imputer',\n",
       "                                                                   SimpleImputer()),\n",
       "                                                                  ('ss',\n",
       "                                                                   StandardScaler())]),\n",
       "                                                  ['mas_vnr_area',\n",
       "                                                   'bsmtfin_sf_1',\n",
       "                                                   'total_bsmt_sf',\n",
       "                                                   '1st_flr_sf', 'gr_liv_area',\n",
       "                                                   'garage_area']),\n",
       "                                                 ('cat',\n",
       "                                                  Pipeline(steps=[('imputer',\n",
       "                                                                   SimpleImputer(strategy='most_frequent')),\n",
       "                                                                  ('ohe',\n",
       "                                                                   OneHotEncoder...\n",
       "                                                   'exter_qual', 'exter_cond',\n",
       "                                                   'bsmt_qual', 'bsmt_cond',\n",
       "                                                   'bsmt_exposure',\n",
       "                                                   'bsmtfin_type_1',\n",
       "                                                   'bsmtfin_type_2',\n",
       "                                                   'heating_qc', 'central_air',\n",
       "                                                   'electrical',\n",
       "                                                   'bsmt_full_bath',\n",
       "                                                   'full_bath', 'kitchen_qual',\n",
       "                                                   'totrms_abvgrd',\n",
       "                                                   'fireplaces', 'fireplace_qu',\n",
       "                                                   'garage_type',\n",
       "                                                   'garage_finish',\n",
       "                                                   'garage_cars', 'garage_qual',\n",
       "                                                   'paved_drive'])],\n",
       "                                   verbose_feature_names_out=False)),\n",
       "                ('classifier', LassoCV())])"
      ]
     },
     "execution_count": 82,
     "metadata": {},
     "output_type": "execute_result"
    }
   ],
   "source": [
    "lasso_pipe.fit(X_train, y_train)"
   ]
  },
  {
   "cell_type": "code",
   "execution_count": 83,
   "id": "0d2bfeb3-27b9-417b-a1e3-4ecbd1bd7218",
   "metadata": {
    "tags": []
   },
   "outputs": [
    {
     "name": "stderr",
     "output_type": "stream",
     "text": [
      "C:\\Users\\jacki\\anaconda3\\lib\\site-packages\\sklearn\\preprocessing\\_encoders.py:170: UserWarning: Found unknown categories in columns [18] during transform. These unknown categories will be encoded as all zeros\n",
      "  warnings.warn(\n"
     ]
    },
    {
     "data": {
      "text/plain": [
       "(0.9150387095355722, 0.902490526449802)"
      ]
     },
     "execution_count": 83,
     "metadata": {},
     "output_type": "execute_result"
    }
   ],
   "source": [
    "lasso_pipe.score(X_train, y_train), lasso_pipe.score(X_test, y_test)"
   ]
  },
  {
   "cell_type": "markdown",
   "id": "d264c581-7eab-4302-b0c5-2ee1de3a7930",
   "metadata": {},
   "source": [
    "The r2 values here are similar to the ridge model. They are both close together, and above 0.9 so they are doing well."
   ]
  },
  {
   "cell_type": "code",
   "execution_count": 84,
   "id": "3e0b29e6-f4ec-4a9c-b06f-e6218be4b7ce",
   "metadata": {},
   "outputs": [
    {
     "data": {
      "text/plain": [
       "21149.00289241998"
      ]
     },
     "execution_count": 84,
     "metadata": {},
     "output_type": "execute_result"
    }
   ],
   "source": [
    "mean_squared_error(y_train, lasso_pipe.predict(X_train))**0.5"
   ]
  },
  {
   "cell_type": "code",
   "execution_count": 85,
   "id": "0a2caf13-ded9-45e9-98d6-f424c072adb4",
   "metadata": {
    "tags": []
   },
   "outputs": [
    {
     "name": "stderr",
     "output_type": "stream",
     "text": [
      "C:\\Users\\jacki\\anaconda3\\lib\\site-packages\\sklearn\\preprocessing\\_encoders.py:170: UserWarning: Found unknown categories in columns [18] during transform. These unknown categories will be encoded as all zeros\n",
      "  warnings.warn(\n"
     ]
    },
    {
     "data": {
      "text/plain": [
       "24347.4743240593"
      ]
     },
     "execution_count": 85,
     "metadata": {},
     "output_type": "execute_result"
    }
   ],
   "source": [
    "mean_squared_error(y_test, lasso_pipe.predict(X_test))**0.5"
   ]
  },
  {
   "cell_type": "markdown",
   "id": "9bf73e7e-0e57-4f79-8915-e8d5a0962537",
   "metadata": {},
   "source": [
    "These RMSE scores are also very similar to the ridge model."
   ]
  },
  {
   "cell_type": "code",
   "execution_count": 86,
   "id": "73594f56-57aa-4d76-8506-37fae0aa49fc",
   "metadata": {},
   "outputs": [],
   "source": [
    "model_coefs = pd.Series(lasso_pipe.named_steps['classifier'].coef_, \n",
    "        index=lasso_pipe.named_steps['preprocessor'].get_feature_names_out())"
   ]
  },
  {
   "cell_type": "code",
   "execution_count": null,
   "id": "0060cff5-654f-40f9-929d-dd52a0c0356f",
   "metadata": {},
   "outputs": [],
   "source": [
    "with pd.option_context('display.max_rows', None):\n",
    "    display(pd.DataFrame(model_coefs[model_coefs != 0].sort_values(ascending=False)))"
   ]
  },
  {
   "cell_type": "code",
   "execution_count": 98,
   "id": "dcd9c016-2b37-43f4-aead-f4db4558074f",
   "metadata": {},
   "outputs": [
    {
     "data": {
      "text/html": [
       "<div>\n",
       "<style scoped>\n",
       "    .dataframe tbody tr th:only-of-type {\n",
       "        vertical-align: middle;\n",
       "    }\n",
       "\n",
       "    .dataframe tbody tr th {\n",
       "        vertical-align: top;\n",
       "    }\n",
       "\n",
       "    .dataframe thead th {\n",
       "        text-align: right;\n",
       "    }\n",
       "</style>\n",
       "<table border=\"1\" class=\"dataframe\">\n",
       "  <thead>\n",
       "    <tr style=\"text-align: right;\">\n",
       "      <th></th>\n",
       "      <th>0</th>\n",
       "    </tr>\n",
       "  </thead>\n",
       "  <tbody>\n",
       "    <tr>\n",
       "      <th>overall_cond_2</th>\n",
       "      <td>-12929.894114</td>\n",
       "    </tr>\n",
       "    <tr>\n",
       "      <th>overall_cond_3</th>\n",
       "      <td>-11993.864034</td>\n",
       "    </tr>\n",
       "    <tr>\n",
       "      <th>bsmt_cond_2.0</th>\n",
       "      <td>-8516.231447</td>\n",
       "    </tr>\n",
       "    <tr>\n",
       "      <th>overall_qual_4</th>\n",
       "      <td>-7639.261346</td>\n",
       "    </tr>\n",
       "    <tr>\n",
       "      <th>overall_cond_4</th>\n",
       "      <td>-6127.787860</td>\n",
       "    </tr>\n",
       "    <tr>\n",
       "      <th>bsmt_qual_2.0</th>\n",
       "      <td>-5754.134496</td>\n",
       "    </tr>\n",
       "    <tr>\n",
       "      <th>bsmt_qual_3.0</th>\n",
       "      <td>-5520.722829</td>\n",
       "    </tr>\n",
       "    <tr>\n",
       "      <th>bsmt_exposure_2.0</th>\n",
       "      <td>-4961.076272</td>\n",
       "    </tr>\n",
       "    <tr>\n",
       "      <th>overall_qual_5</th>\n",
       "      <td>-4486.678024</td>\n",
       "    </tr>\n",
       "    <tr>\n",
       "      <th>overall_qual_3</th>\n",
       "      <td>-3852.463583</td>\n",
       "    </tr>\n",
       "  </tbody>\n",
       "</table>\n",
       "</div>"
      ],
      "text/plain": [
       "                              0\n",
       "overall_cond_2    -12929.894114\n",
       "overall_cond_3    -11993.864034\n",
       "bsmt_cond_2.0      -8516.231447\n",
       "overall_qual_4     -7639.261346\n",
       "overall_cond_4     -6127.787860\n",
       "bsmt_qual_2.0      -5754.134496\n",
       "bsmt_qual_3.0      -5520.722829\n",
       "bsmt_exposure_2.0  -4961.076272\n",
       "overall_qual_5     -4486.678024\n",
       "overall_qual_3     -3852.463583"
      ]
     },
     "execution_count": 98,
     "metadata": {},
     "output_type": "execute_result"
    }
   ],
   "source": [
    "low_val = pd.DataFrame(model_coefs[model_coefs != 0].sort_values().head(10))\n",
    "low_val"
   ]
  },
  {
   "cell_type": "markdown",
   "id": "9fbeb13f-a13b-439e-bda9-eaebb9f6c17a",
   "metadata": {},
   "source": [
    "The above are the top features that detract value from the house."
   ]
  },
  {
   "cell_type": "code",
   "execution_count": 101,
   "id": "6297a972-c70e-4e49-bd31-69bd74fcf4a1",
   "metadata": {},
   "outputs": [
    {
     "data": {
      "text/html": [
       "<div>\n",
       "<style scoped>\n",
       "    .dataframe tbody tr th:only-of-type {\n",
       "        vertical-align: middle;\n",
       "    }\n",
       "\n",
       "    .dataframe tbody tr th {\n",
       "        vertical-align: top;\n",
       "    }\n",
       "\n",
       "    .dataframe thead th {\n",
       "        text-align: right;\n",
       "    }\n",
       "</style>\n",
       "<table border=\"1\" class=\"dataframe\">\n",
       "  <thead>\n",
       "    <tr style=\"text-align: right;\">\n",
       "      <th></th>\n",
       "      <th>0</th>\n",
       "    </tr>\n",
       "  </thead>\n",
       "  <tbody>\n",
       "    <tr>\n",
       "      <th>overall_qual_10</th>\n",
       "      <td>84908.616006</td>\n",
       "    </tr>\n",
       "    <tr>\n",
       "      <th>overall_qual_9</th>\n",
       "      <td>53680.716768</td>\n",
       "    </tr>\n",
       "    <tr>\n",
       "      <th>roof_matl_WdShngl</th>\n",
       "      <td>35417.521047</td>\n",
       "    </tr>\n",
       "    <tr>\n",
       "      <th>overall_qual_8</th>\n",
       "      <td>24705.529883</td>\n",
       "    </tr>\n",
       "    <tr>\n",
       "      <th>gr_liv_area</th>\n",
       "      <td>22120.671408</td>\n",
       "    </tr>\n",
       "    <tr>\n",
       "      <th>kitchen_qual_5</th>\n",
       "      <td>21991.721926</td>\n",
       "    </tr>\n",
       "    <tr>\n",
       "      <th>exter_qual_5</th>\n",
       "      <td>17903.809487</td>\n",
       "    </tr>\n",
       "    <tr>\n",
       "      <th>overall_cond_8</th>\n",
       "      <td>14618.540229</td>\n",
       "    </tr>\n",
       "    <tr>\n",
       "      <th>full_bath_3</th>\n",
       "      <td>13731.160850</td>\n",
       "    </tr>\n",
       "    <tr>\n",
       "      <th>garage_cars_3.0</th>\n",
       "      <td>12968.797121</td>\n",
       "    </tr>\n",
       "    <tr>\n",
       "      <th>fireplaces_2</th>\n",
       "      <td>12723.634269</td>\n",
       "    </tr>\n",
       "    <tr>\n",
       "      <th>overall_cond_7</th>\n",
       "      <td>12199.282437</td>\n",
       "    </tr>\n",
       "    <tr>\n",
       "      <th>garage_type_BuiltIn</th>\n",
       "      <td>12193.986127</td>\n",
       "    </tr>\n",
       "    <tr>\n",
       "      <th>bsmt_qual_5.0</th>\n",
       "      <td>12150.193793</td>\n",
       "    </tr>\n",
       "    <tr>\n",
       "      <th>foundation_PConc</th>\n",
       "      <td>11909.538873</td>\n",
       "    </tr>\n",
       "    <tr>\n",
       "      <th>garage_type_Attchd</th>\n",
       "      <td>11902.029060</td>\n",
       "    </tr>\n",
       "    <tr>\n",
       "      <th>overall_cond_9</th>\n",
       "      <td>10889.204991</td>\n",
       "    </tr>\n",
       "    <tr>\n",
       "      <th>bsmt_exposure_4.0</th>\n",
       "      <td>10473.260332</td>\n",
       "    </tr>\n",
       "    <tr>\n",
       "      <th>overall_qual_7</th>\n",
       "      <td>9755.499219</td>\n",
       "    </tr>\n",
       "    <tr>\n",
       "      <th>paved_drive_3</th>\n",
       "      <td>9301.082663</td>\n",
       "    </tr>\n",
       "    <tr>\n",
       "      <th>total_bsmt_sf</th>\n",
       "      <td>8278.576473</td>\n",
       "    </tr>\n",
       "    <tr>\n",
       "      <th>exter_qual_4</th>\n",
       "      <td>7638.422420</td>\n",
       "    </tr>\n",
       "    <tr>\n",
       "      <th>fireplace_qu_5</th>\n",
       "      <td>6891.647818</td>\n",
       "    </tr>\n",
       "    <tr>\n",
       "      <th>bsmtfin_type_2_5.0</th>\n",
       "      <td>6824.909075</td>\n",
       "    </tr>\n",
       "    <tr>\n",
       "      <th>bsmtfin_sf_1</th>\n",
       "      <td>6536.151483</td>\n",
       "    </tr>\n",
       "    <tr>\n",
       "      <th>garage_type_Detchd</th>\n",
       "      <td>5846.021741</td>\n",
       "    </tr>\n",
       "    <tr>\n",
       "      <th>kitchen_qual_4</th>\n",
       "      <td>5645.440533</td>\n",
       "    </tr>\n",
       "    <tr>\n",
       "      <th>fireplace_qu_4</th>\n",
       "      <td>5541.914946</td>\n",
       "    </tr>\n",
       "    <tr>\n",
       "      <th>garage_qual_4.0</th>\n",
       "      <td>4982.449422</td>\n",
       "    </tr>\n",
       "    <tr>\n",
       "      <th>garage_area</th>\n",
       "      <td>4974.755367</td>\n",
       "    </tr>\n",
       "    <tr>\n",
       "      <th>overall_cond_6</th>\n",
       "      <td>4099.238591</td>\n",
       "    </tr>\n",
       "    <tr>\n",
       "      <th>foundation_CBlock</th>\n",
       "      <td>3966.042509</td>\n",
       "    </tr>\n",
       "    <tr>\n",
       "      <th>mas_vnr_type_None</th>\n",
       "      <td>3898.423537</td>\n",
       "    </tr>\n",
       "    <tr>\n",
       "      <th>mas_vnr_area</th>\n",
       "      <td>3807.322663</td>\n",
       "    </tr>\n",
       "    <tr>\n",
       "      <th>heating_qc_5</th>\n",
       "      <td>3588.086960</td>\n",
       "    </tr>\n",
       "    <tr>\n",
       "      <th>bsmtfin_type_1_6.0</th>\n",
       "      <td>3583.515921</td>\n",
       "    </tr>\n",
       "    <tr>\n",
       "      <th>fireplaces_1</th>\n",
       "      <td>3204.210676</td>\n",
       "    </tr>\n",
       "    <tr>\n",
       "      <th>central_air_Y</th>\n",
       "      <td>2987.789827</td>\n",
       "    </tr>\n",
       "    <tr>\n",
       "      <th>garage_finish_3.0</th>\n",
       "      <td>2873.122129</td>\n",
       "    </tr>\n",
       "    <tr>\n",
       "      <th>heating_qc_4</th>\n",
       "      <td>2627.360454</td>\n",
       "    </tr>\n",
       "  </tbody>\n",
       "</table>\n",
       "</div>"
      ],
      "text/plain": [
       "                                0\n",
       "overall_qual_10      84908.616006\n",
       "overall_qual_9       53680.716768\n",
       "roof_matl_WdShngl    35417.521047\n",
       "overall_qual_8       24705.529883\n",
       "gr_liv_area          22120.671408\n",
       "kitchen_qual_5       21991.721926\n",
       "exter_qual_5         17903.809487\n",
       "overall_cond_8       14618.540229\n",
       "full_bath_3          13731.160850\n",
       "garage_cars_3.0      12968.797121\n",
       "fireplaces_2         12723.634269\n",
       "overall_cond_7       12199.282437\n",
       "garage_type_BuiltIn  12193.986127\n",
       "bsmt_qual_5.0        12150.193793\n",
       "foundation_PConc     11909.538873\n",
       "garage_type_Attchd   11902.029060\n",
       "overall_cond_9       10889.204991\n",
       "bsmt_exposure_4.0    10473.260332\n",
       "overall_qual_7        9755.499219\n",
       "paved_drive_3         9301.082663\n",
       "total_bsmt_sf         8278.576473\n",
       "exter_qual_4          7638.422420\n",
       "fireplace_qu_5        6891.647818\n",
       "bsmtfin_type_2_5.0    6824.909075\n",
       "bsmtfin_sf_1          6536.151483\n",
       "garage_type_Detchd    5846.021741\n",
       "kitchen_qual_4        5645.440533\n",
       "fireplace_qu_4        5541.914946\n",
       "garage_qual_4.0       4982.449422\n",
       "garage_area           4974.755367\n",
       "overall_cond_6        4099.238591\n",
       "foundation_CBlock     3966.042509\n",
       "mas_vnr_type_None     3898.423537\n",
       "mas_vnr_area          3807.322663\n",
       "heating_qc_5          3588.086960\n",
       "bsmtfin_type_1_6.0    3583.515921\n",
       "fireplaces_1          3204.210676\n",
       "central_air_Y         2987.789827\n",
       "garage_finish_3.0     2873.122129\n",
       "heating_qc_4          2627.360454"
      ]
     },
     "execution_count": 101,
     "metadata": {},
     "output_type": "execute_result"
    }
   ],
   "source": [
    "big_val = pd.DataFrame(model_coefs[model_coefs != 0].sort_values(ascending=False)).head(40)\n",
    "big_val"
   ]
  },
  {
   "cell_type": "markdown",
   "id": "a169a5d2-9b1f-4153-850b-8b53489227ef",
   "metadata": {},
   "source": [
    "The above are the top features that add value to the home. I have expanded it to a fairly large list in order to pin point the features that can be rennovated, other than just the overall quality and condition of the house."
   ]
  },
  {
   "cell_type": "code",
   "execution_count": 46,
   "id": "cbadb3c7-741e-4c9b-8b8e-4a57081a3973",
   "metadata": {},
   "outputs": [
    {
     "data": {
      "text/plain": [
       "51.592867289434295"
      ]
     },
     "execution_count": 46,
     "metadata": {},
     "output_type": "execute_result"
    }
   ],
   "source": [
    "lasso_pipe.named_steps['classifier'].alpha_"
   ]
  },
  {
   "cell_type": "markdown",
   "id": "cd0b0c84-8241-4747-b0ad-333eb69869ae",
   "metadata": {},
   "source": [
    "The above is the alpha that the LassoCV chose to be the best parameter for the model."
   ]
  },
  {
   "cell_type": "code",
   "execution_count": 47,
   "id": "411e5d8b-14d2-41e6-9825-a13fd32a7dcf",
   "metadata": {},
   "outputs": [
    {
     "name": "stderr",
     "output_type": "stream",
     "text": [
      "C:\\Users\\jacki\\anaconda3\\lib\\site-packages\\sklearn\\preprocessing\\_encoders.py:170: UserWarning: Found unknown categories in columns [2, 3, 17] during transform. These unknown categories will be encoded as all zeros\n",
      "  warnings.warn(\n"
     ]
    }
   ],
   "source": [
    "test_id = test['id']\n",
    "\n",
    "lasso_preds = lasso_pipe.predict(test[X.columns])\n",
    "\n",
    "lasso_preds = pd.DataFrame(lasso_preds, columns=['SalePrice'])\n",
    "\n",
    "lasso_preds.insert(loc=0, column='Id', value=test_id)"
   ]
  },
  {
   "cell_type": "code",
   "execution_count": 48,
   "id": "1a6c91f3-e363-4dd6-a137-8bdcf9d6b3fb",
   "metadata": {},
   "outputs": [],
   "source": [
    "lasso_preds.to_csv('../submissions/lasso_2.csv', index=False)"
   ]
  },
  {
   "cell_type": "code",
   "execution_count": 49,
   "id": "1f1de12e-426a-4ffc-be80-f6c96cff9e3c",
   "metadata": {},
   "outputs": [
    {
     "data": {
      "image/png": "[encoded data removed]",
      "text/plain": [
       "<Figure size 432x288 with 1 Axes>"
      ]
     },
     "metadata": {
      "needs_background": "light"
     },
     "output_type": "display_data"
    }
   ],
   "source": [
    "sns.residplot(x = lasso_pipe.predict(X_train),\n",
    "              y = y_train - lasso_pipe.predict(X_train),\n",
    "              lowess = True, \n",
    "              line_kws = {'color' : 'orange'})\\\n",
    "    .set(title = 'LassoCV Residuals vs. fits plot',\n",
    "        xlabel = 'Predicted value',\n",
    "        ylabel = 'Residual value');"
   ]
  },
  {
   "cell_type": "code",
   "execution_count": 50,
   "id": "f7d5a699-6a52-4bf2-90a3-c347e29a0e59",
   "metadata": {},
   "outputs": [
    {
     "name": "stderr",
     "output_type": "stream",
     "text": [
      "C:\\Users\\jacki\\anaconda3\\lib\\site-packages\\sklearn\\preprocessing\\_encoders.py:170: UserWarning: Found unknown categories in columns [18] during transform. These unknown categories will be encoded as all zeros\n",
      "  warnings.warn(\n",
      "C:\\Users\\jacki\\anaconda3\\lib\\site-packages\\sklearn\\preprocessing\\_encoders.py:170: UserWarning: Found unknown categories in columns [18] during transform. These unknown categories will be encoded as all zeros\n",
      "  warnings.warn(\n"
     ]
    },
    {
     "data": {
      "image/png": "[encoded data removed]",
      "text/plain": [
       "<Figure size 432x288 with 1 Axes>"
      ]
     },
     "metadata": {
      "needs_background": "light"
     },
     "output_type": "display_data"
    }
   ],
   "source": [
    "sns.residplot(x = lasso_pipe.predict(X_test),\n",
    "              y = y_test - lasso_pipe.predict(X_test),\n",
    "              lowess = True, \n",
    "              line_kws = {'color' : 'orange'})\\\n",
    "    .set(title = 'LassoCV Residuals vs. fits plot',\n",
    "        xlabel = 'Predicted value',\n",
    "        ylabel = 'Residual value');"
   ]
  },
  {
   "cell_type": "markdown",
   "id": "61615529-8db3-4140-9626-d64c057d914a",
   "metadata": {},
   "source": [
    "#### I think this Lasso model is the best for the problem statement at hand. Since we are looking at several different features that could pertain to home renovations, lasso is the better model since it reduces the features that don't have a big impact on the model to zero. This makes it easier for interpretation. The one caveat is that it could reduce some features that do have an impact, but just happen to interact with another feature. To test this, the model would have to be tuned more so with each of the features.\n",
    "\n",
    "#### This model is all about being used for inference. It is focusing on the features specifically in regards to housing price and how they might impact that. I believe it will generalize to new data well because the features that stand out and pretty common across the board with homes."
   ]
  },
  {
   "cell_type": "markdown",
   "id": "da6734c2-c79d-4627-a406-ebb681c17569",
   "metadata": {},
   "source": [
    "---"
   ]
  },
  {
   "cell_type": "markdown",
   "id": "5cda811f-ec12-4122-a463-e4544a8bd172",
   "metadata": {},
   "source": [
    "### Conclusion"
   ]
  },
  {
   "cell_type": "markdown",
   "id": "35458b1f-f462-454b-b057-385b298d141d",
   "metadata": {},
   "source": []
  }
 ],
 "metadata": {
  "kernelspec": {
   "display_name": "Python 3 (ipykernel)",
   "language": "python",
   "name": "python3"
  },
  "language_info": {
   "codemirror_mode": {
    "name": "ipython",
    "version": 3
   },
   "file_extension": ".py",
   "mimetype": "text/x-python",
   "name": "python",
   "nbconvert_exporter": "python",
   "pygments_lexer": "ipython3",
   "version": "3.9.7"
  }
 },
 "nbformat": 4,
 "nbformat_minor": 5
}

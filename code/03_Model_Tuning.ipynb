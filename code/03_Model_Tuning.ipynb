{
 "cells": [
  {
   "cell_type": "markdown",
   "id": "3934226c-58ce-4f49-a141-393d349f05cf",
   "metadata": {},
   "source": [
    "## Model Tuning"
   ]
  },
  {
   "cell_type": "code",
   "execution_count": 10,
   "id": "b93d3b52-3021-4666-9234-b34596d3926b",
   "metadata": {},
   "outputs": [],
   "source": [
    "import pandas as pd\n",
    "import numpy as np\n",
    "import seaborn as sns\n",
    "import matplotlib.pyplot as plt\n",
    "from sklearn.linear_model import LinearRegression, LassoCV, RidgeCV, Lasso, Ridge\n",
    "from sklearn.preprocessing import PolynomialFeatures, StandardScaler\n",
    "from sklearn.metrics import r2_score, mean_squared_error\n",
    "from sklearn.model_selection import train_test_split, cross_val_score\n",
    "from sklearn.pipeline import Pipeline\n",
    "from sklearn.impute import SimpleImputer\n",
    "from sklearn.preprocessing import StandardScaler, OneHotEncoder\n",
    "from sklearn.compose import ColumnTransformer"
   ]
  },
  {
   "cell_type": "code",
   "execution_count": 11,
   "id": "fbd63a19-4ecd-47ae-b89f-f9729819240a",
   "metadata": {},
   "outputs": [],
   "source": [
    "train = pd.read_csv('../datasets/train_cleaned.csv', keep_default_na=False, na_values='')\n",
    "test = pd.read_csv('../datasets/test_cleaned.csv', keep_default_na=False, na_values='')"
   ]
  },
  {
   "cell_type": "markdown",
   "id": "a79e5f51-58b1-4c64-826a-b300da56ec62",
   "metadata": {},
   "source": [
    "### Ridge Model"
   ]
  },
  {
   "cell_type": "code",
   "execution_count": 84,
   "id": "d6ae9803-316e-4724-bd59-b229af394f02",
   "metadata": {},
   "outputs": [],
   "source": [
    "# https://scikit-learn.org/stable/auto_examples/compose/plot_column_transformer_mixed_types.html\n",
    "\n",
    "SimpleImputer.get_feature_names_out = (lambda self, names=None:\n",
    "                                       self.feature_names_in_)\n",
    "\n",
    "numeric = ['mas_vnr_area', 'bsmtfin_sf_1', 'total_bsmt_sf', '1st_flr_sf', 'gr_liv_area', 'garage_area']\n",
    "numeric_transformer = Pipeline(\n",
    "    steps = [\n",
    "        ('imputer', SimpleImputer(strategy='mean')),\n",
    "        ('ss', StandardScaler())\n",
    "    ])\n",
    "\n",
    "categorical = [\n",
    "    'overall_qual', 'overall_cond', 'roof_matl', 'mas_vnr_type', \n",
    "    'foundation', 'exter_qual', 'exter_cond', 'bsmt_qual',\n",
    "    'bsmt_cond', 'bsmt_exposure', 'bsmtfin_type_1', \n",
    "    'bsmtfin_type_2', 'heating_qc', 'central_air', 'electrical',\n",
    "    'bsmt_full_bath', 'full_bath', 'kitchen_qual', 'totrms_abvgrd',\n",
    "    'fireplaces', 'fireplace_qu', 'garage_type', 'garage_finish', \n",
    "    'garage_cars', 'garage_qual', 'paved_drive'\n",
    "]\n",
    "categorical_transformer = Pipeline(\n",
    "    steps = [\n",
    "        ('imputer', SimpleImputer(strategy='most_frequent')),\n",
    "        ('ohe', OneHotEncoder(drop='first', handle_unknown='ignore', sparse=False))\n",
    "    ])\n",
    "\n",
    "preprocessor = ColumnTransformer(\n",
    "    transformers = [\n",
    "        ('num', numeric_transformer, numeric),\n",
    "        ('cat', categorical_transformer, categorical)\n",
    "    ], remainder='passthrough', verbose_feature_names_out=False)\n",
    "\n",
    "ridge_pipe = Pipeline(\n",
    "    steps = [\n",
    "        ('preprocessor', preprocessor),\n",
    "        ('classifier', RidgeCV())\n",
    "    ])"
   ]
  },
  {
   "cell_type": "code",
   "execution_count": 85,
   "id": "a5e15b3f-3ff3-4f27-bcfe-ad942d8a88a8",
   "metadata": {},
   "outputs": [],
   "source": [
    "X = train[['mas_vnr_area', 'bsmtfin_sf_1', 'total_bsmt_sf', \n",
    "    '1st_flr_sf', 'gr_liv_area', 'garage_area', 'overall_qual', \n",
    "    'overall_cond', 'roof_matl', 'mas_vnr_type', 'foundation', \n",
    "    'exter_qual', 'exter_cond', 'bsmt_qual','bsmt_cond', \n",
    "    'bsmt_exposure', 'bsmtfin_type_1', 'bsmtfin_type_2', \n",
    "    'heating_qc', 'central_air', 'electrical','bsmt_full_bath', \n",
    "    'full_bath', 'kitchen_qual', 'totrms_abvgrd', 'fireplaces', \n",
    "    'fireplace_qu', 'garage_type', 'garage_finish', 'garage_cars', \n",
    "    'garage_qual', 'paved_drive']]\n",
    "y = train['saleprice']\n",
    "\n",
    "X_train, X_test, y_train, y_test = train_test_split(X, y, test_size=0.2, random_state=42)"
   ]
  },
  {
   "cell_type": "code",
   "execution_count": 86,
   "id": "08d68901-d58f-4c31-b8ff-432b71422a2a",
   "metadata": {},
   "outputs": [
    {
     "data": {
      "text/plain": [
       "Pipeline(steps=[('preprocessor',\n",
       "                 ColumnTransformer(remainder='passthrough',\n",
       "                                   transformers=[('num',\n",
       "                                                  Pipeline(steps=[('imputer',\n",
       "                                                                   SimpleImputer()),\n",
       "                                                                  ('ss',\n",
       "                                                                   StandardScaler())]),\n",
       "                                                  ['mas_vnr_area',\n",
       "                                                   'bsmtfin_sf_1',\n",
       "                                                   'total_bsmt_sf',\n",
       "                                                   '1st_flr_sf', 'gr_liv_area',\n",
       "                                                   'garage_area']),\n",
       "                                                 ('cat',\n",
       "                                                  Pipeline(steps=[('imputer',\n",
       "                                                                   SimpleImputer(strategy='most_frequent')),\n",
       "                                                                  ('ohe',\n",
       "                                                                   OneHotEncoder...\n",
       "                                                   'bsmt_qual', 'bsmt_cond',\n",
       "                                                   'bsmt_exposure',\n",
       "                                                   'bsmtfin_type_1',\n",
       "                                                   'bsmtfin_type_2',\n",
       "                                                   'heating_qc', 'central_air',\n",
       "                                                   'electrical',\n",
       "                                                   'bsmt_full_bath',\n",
       "                                                   'full_bath', 'kitchen_qual',\n",
       "                                                   'totrms_abvgrd',\n",
       "                                                   'fireplaces', 'fireplace_qu',\n",
       "                                                   'garage_type',\n",
       "                                                   'garage_finish',\n",
       "                                                   'garage_cars', 'garage_qual',\n",
       "                                                   'paved_drive'])],\n",
       "                                   verbose_feature_names_out=False)),\n",
       "                ('classifier', RidgeCV(alphas=array([ 0.1,  1. , 10. ])))])"
      ]
     },
     "execution_count": 86,
     "metadata": {},
     "output_type": "execute_result"
    }
   ],
   "source": [
    "ridge_pipe.fit(X_train, y_train)"
   ]
  },
  {
   "cell_type": "code",
   "execution_count": 87,
   "id": "f3829730-4a58-4056-a037-8d379c26a633",
   "metadata": {},
   "outputs": [
    {
     "name": "stderr",
     "output_type": "stream",
     "text": [
      "C:\\Users\\jacki\\anaconda3\\lib\\site-packages\\sklearn\\preprocessing\\_encoders.py:170: UserWarning: Found unknown categories in columns [18] during transform. These unknown categories will be encoded as all zeros\n",
      "  warnings.warn(\n"
     ]
    },
    {
     "data": {
      "text/plain": [
       "(0.9178700362072286, 0.9004000793875788)"
      ]
     },
     "execution_count": 87,
     "metadata": {},
     "output_type": "execute_result"
    }
   ],
   "source": [
    "ridge_pipe.score(X_train, y_train), ridge_pipe.score(X_test, y_test)"
   ]
  },
  {
   "cell_type": "markdown",
   "id": "55fe9685-71cb-480b-8740-6a3a13f34480",
   "metadata": {},
   "source": [
    "These r2 scores are much better than the linear regression model, and much closer together."
   ]
  },
  {
   "cell_type": "code",
   "execution_count": 88,
   "id": "55eaf242-c0af-4aaa-8681-cd680a2cefdd",
   "metadata": {},
   "outputs": [
    {
     "data": {
      "text/plain": [
       "20793.622830997287"
      ]
     },
     "execution_count": 88,
     "metadata": {},
     "output_type": "execute_result"
    }
   ],
   "source": [
    "mean_squared_error(y_train, ridge_pipe.predict(X_train))**0.5"
   ]
  },
  {
   "cell_type": "code",
   "execution_count": 89,
   "id": "7e888445-fcad-4cab-9f52-d3786ba2aac5",
   "metadata": {},
   "outputs": [
    {
     "name": "stderr",
     "output_type": "stream",
     "text": [
      "C:\\Users\\jacki\\anaconda3\\lib\\site-packages\\sklearn\\preprocessing\\_encoders.py:170: UserWarning: Found unknown categories in columns [18] during transform. These unknown categories will be encoded as all zeros\n",
      "  warnings.warn(\n"
     ]
    },
    {
     "data": {
      "text/plain": [
       "24607.075784686036"
      ]
     },
     "execution_count": 89,
     "metadata": {},
     "output_type": "execute_result"
    }
   ],
   "source": [
    "mean_squared_error(y_test, ridge_pipe.predict(X_test))**0.5"
   ]
  },
  {
   "cell_type": "markdown",
   "id": "7d3b0208-6b61-4c7a-9195-d010f38afb55",
   "metadata": {},
   "source": [
    "The MSE's here is similar to the linear regression model - it's doing much better than the baseline."
   ]
  },
  {
   "cell_type": "code",
   "execution_count": null,
   "id": "5467c241-4923-4e36-976a-86aa9ed89261",
   "metadata": {},
   "outputs": [],
   "source": [
    "ridge_pipe.named_steps['preprocessor'].get_feature_names_out()"
   ]
  },
  {
   "cell_type": "code",
   "execution_count": 90,
   "id": "289e2e53-53de-4779-a880-bf7040645b64",
   "metadata": {},
   "outputs": [],
   "source": [
    "model_coefs = pd.Series(ridge_pipe.named_steps['classifier'].coef_, \n",
    "        index=ridge_pipe.named_steps['preprocessor'].get_feature_names_out())"
   ]
  },
  {
   "cell_type": "code",
   "execution_count": 91,
   "id": "03237985-844b-4206-ae09-c3d71a6d4f40",
   "metadata": {},
   "outputs": [
    {
     "data": {
      "text/plain": [
       "roof_matl_WdShake   -15006.653597\n",
       "overall_qual_4      -14763.098253\n",
       "overall_qual_3      -13025.221719\n",
       "overall_cond_2      -12667.290331\n",
       "totrms_abvgrd_12    -12284.645018\n",
       "                         ...     \n",
       "exter_qual_5         26633.580037\n",
       "overall_cond_8       28205.541539\n",
       "overall_qual_9       45815.740605\n",
       "roof_matl_WdShngl    49643.544760\n",
       "overall_qual_10      72487.860762\n",
       "Length: 128, dtype: float64"
      ]
     },
     "execution_count": 91,
     "metadata": {},
     "output_type": "execute_result"
    }
   ],
   "source": [
    "model_coefs.sort_values()"
   ]
  },
  {
   "cell_type": "markdown",
   "id": "6cbba687-5665-4bbe-ba88-5b98047c796c",
   "metadata": {},
   "source": [
    "**This ridge model is an improvement. Since there are numerous features, I decided to do the lasso to compare.**"
   ]
  },
  {
   "cell_type": "markdown",
   "id": "d20526ac-19e6-41e0-b721-ca2f357dbd72",
   "metadata": {},
   "source": [
    "---"
   ]
  },
  {
   "cell_type": "markdown",
   "id": "626b584c-a944-4911-a90f-750516fa3cc1",
   "metadata": {},
   "source": [
    "### Lasso Model"
   ]
  },
  {
   "cell_type": "code",
   "execution_count": 92,
   "id": "33084d7a-355a-418e-9f63-7c73606690ea",
   "metadata": {},
   "outputs": [],
   "source": [
    "# https://scikit-learn.org/stable/auto_examples/compose/plot_column_transformer_mixed_types.html\n",
    "\n",
    "SimpleImputer.get_feature_names_out = (lambda self, names=None:\n",
    "                                       self.feature_names_in_)\n",
    "\n",
    "numeric = ['mas_vnr_area', 'bsmtfin_sf_1', 'total_bsmt_sf', '1st_flr_sf', 'gr_liv_area', 'garage_area']\n",
    "numeric_transformer = Pipeline(\n",
    "    steps = [\n",
    "        ('imputer', SimpleImputer(strategy='mean')),\n",
    "        ('ss', StandardScaler())\n",
    "    ])\n",
    "\n",
    "categorical = [\n",
    "    'overall_qual', 'overall_cond', 'roof_matl', 'mas_vnr_type', \n",
    "    'foundation', 'exter_qual', 'exter_cond', 'bsmt_qual',\n",
    "    'bsmt_cond', 'bsmt_exposure', 'bsmtfin_type_1', \n",
    "    'bsmtfin_type_2', 'heating_qc', 'central_air', 'electrical',\n",
    "    'bsmt_full_bath', 'full_bath', 'kitchen_qual', 'totrms_abvgrd',\n",
    "    'fireplaces', 'fireplace_qu', 'garage_type', 'garage_finish', \n",
    "    'garage_cars', 'garage_qual', 'paved_drive'\n",
    "]\n",
    "categorical_transformer = Pipeline(\n",
    "    steps = [\n",
    "        ('imputer', SimpleImputer(strategy='most_frequent')),\n",
    "        ('ohe', OneHotEncoder(drop='first', handle_unknown='ignore', sparse=False))\n",
    "    ])\n",
    "\n",
    "preprocessor = ColumnTransformer(\n",
    "    transformers = [\n",
    "        ('num', numeric_transformer, numeric),\n",
    "        ('cat', categorical_transformer, categorical)\n",
    "    ], remainder='passthrough', verbose_feature_names_out=False)\n",
    "\n",
    "lasso_pipe = Pipeline(\n",
    "    steps = [\n",
    "        ('preprocessor', preprocessor),\n",
    "        ('classifier', LassoCV())\n",
    "    ])"
   ]
  },
  {
   "cell_type": "code",
   "execution_count": 93,
   "id": "ed1e936f-837a-4821-918c-2be9a2be6c6c",
   "metadata": {},
   "outputs": [],
   "source": [
    "X = train[['mas_vnr_area', 'bsmtfin_sf_1', 'total_bsmt_sf', \n",
    "    '1st_flr_sf', 'gr_liv_area', 'garage_area', 'overall_qual', \n",
    "    'overall_cond', 'roof_matl', 'mas_vnr_type', 'foundation', \n",
    "    'exter_qual', 'exter_cond', 'bsmt_qual','bsmt_cond', \n",
    "    'bsmt_exposure', 'bsmtfin_type_1', 'bsmtfin_type_2', \n",
    "    'heating_qc', 'central_air', 'electrical','bsmt_full_bath', \n",
    "    'full_bath', 'kitchen_qual', 'totrms_abvgrd', 'fireplaces', \n",
    "    'fireplace_qu', 'garage_type', 'garage_finish', 'garage_cars', \n",
    "    'garage_qual', 'paved_drive']]\n",
    "y = train['saleprice']\n",
    "\n",
    "X_train, X_test, y_train, y_test = train_test_split(X, y, test_size=0.2, random_state=42)"
   ]
  },
  {
   "cell_type": "code",
   "execution_count": null,
   "id": "c77bd14b-9c73-4f1e-808d-bb139b80dbf0",
   "metadata": {},
   "outputs": [],
   "source": [
    "# test predictions\n",
    "lasso_pipe.predict(test[X.columns])"
   ]
  },
  {
   "cell_type": "code",
   "execution_count": 94,
   "id": "d9c27472-716f-4ed2-b752-4934df5e2de1",
   "metadata": {},
   "outputs": [
    {
     "data": {
      "text/plain": [
       "Pipeline(steps=[('preprocessor',\n",
       "                 ColumnTransformer(remainder='passthrough',\n",
       "                                   transformers=[('num',\n",
       "                                                  Pipeline(steps=[('imputer',\n",
       "                                                                   SimpleImputer()),\n",
       "                                                                  ('ss',\n",
       "                                                                   StandardScaler())]),\n",
       "                                                  ['mas_vnr_area',\n",
       "                                                   'bsmtfin_sf_1',\n",
       "                                                   'total_bsmt_sf',\n",
       "                                                   '1st_flr_sf', 'gr_liv_area',\n",
       "                                                   'garage_area']),\n",
       "                                                 ('cat',\n",
       "                                                  Pipeline(steps=[('imputer',\n",
       "                                                                   SimpleImputer(strategy='most_frequent')),\n",
       "                                                                  ('ohe',\n",
       "                                                                   OneHotEncoder...\n",
       "                                                   'exter_qual', 'exter_cond',\n",
       "                                                   'bsmt_qual', 'bsmt_cond',\n",
       "                                                   'bsmt_exposure',\n",
       "                                                   'bsmtfin_type_1',\n",
       "                                                   'bsmtfin_type_2',\n",
       "                                                   'heating_qc', 'central_air',\n",
       "                                                   'electrical',\n",
       "                                                   'bsmt_full_bath',\n",
       "                                                   'full_bath', 'kitchen_qual',\n",
       "                                                   'totrms_abvgrd',\n",
       "                                                   'fireplaces', 'fireplace_qu',\n",
       "                                                   'garage_type',\n",
       "                                                   'garage_finish',\n",
       "                                                   'garage_cars', 'garage_qual',\n",
       "                                                   'paved_drive'])],\n",
       "                                   verbose_feature_names_out=False)),\n",
       "                ('classifier', LassoCV())])"
      ]
     },
     "execution_count": 94,
     "metadata": {},
     "output_type": "execute_result"
    }
   ],
   "source": [
    "lasso_pipe.fit(X_train, y_train)"
   ]
  },
  {
   "cell_type": "code",
   "execution_count": 95,
   "id": "0d2bfeb3-27b9-417b-a1e3-4ecbd1bd7218",
   "metadata": {},
   "outputs": [
    {
     "name": "stderr",
     "output_type": "stream",
     "text": [
      "C:\\Users\\jacki\\anaconda3\\lib\\site-packages\\sklearn\\preprocessing\\_encoders.py:170: UserWarning: Found unknown categories in columns [18] during transform. These unknown categories will be encoded as all zeros\n",
      "  warnings.warn(\n"
     ]
    },
    {
     "data": {
      "text/plain": [
       "(0.9150387095355722, 0.902490526449802)"
      ]
     },
     "execution_count": 95,
     "metadata": {},
     "output_type": "execute_result"
    }
   ],
   "source": [
    "lasso_pipe.score(X_train, y_train), lasso_pipe.score(X_test, y_test)"
   ]
  },
  {
   "cell_type": "code",
   "execution_count": 96,
   "id": "3e0b29e6-f4ec-4a9c-b06f-e6218be4b7ce",
   "metadata": {},
   "outputs": [
    {
     "data": {
      "text/plain": [
       "21149.00289241998"
      ]
     },
     "execution_count": 96,
     "metadata": {},
     "output_type": "execute_result"
    }
   ],
   "source": [
    "mean_squared_error(y_train, lasso_pipe.predict(X_train))**0.5"
   ]
  },
  {
   "cell_type": "code",
   "execution_count": 97,
   "id": "0a2caf13-ded9-45e9-98d6-f424c072adb4",
   "metadata": {},
   "outputs": [
    {
     "name": "stderr",
     "output_type": "stream",
     "text": [
      "C:\\Users\\jacki\\anaconda3\\lib\\site-packages\\sklearn\\preprocessing\\_encoders.py:170: UserWarning: Found unknown categories in columns [18] during transform. These unknown categories will be encoded as all zeros\n",
      "  warnings.warn(\n"
     ]
    },
    {
     "data": {
      "text/plain": [
       "24347.4743240593"
      ]
     },
     "execution_count": 97,
     "metadata": {},
     "output_type": "execute_result"
    }
   ],
   "source": [
    "mean_squared_error(y_test, lasso_pipe.predict(X_test))**0.5"
   ]
  },
  {
   "cell_type": "code",
   "execution_count": null,
   "id": "3afff0e5-1e1d-4e98-aac0-7f9461aa2752",
   "metadata": {},
   "outputs": [],
   "source": [
    "lasso_pipe.named_steps['preprocessor'].get_feature_names_out()"
   ]
  },
  {
   "cell_type": "code",
   "execution_count": 98,
   "id": "73594f56-57aa-4d76-8506-37fae0aa49fc",
   "metadata": {},
   "outputs": [],
   "source": [
    "model_coefs = pd.Series(lasso_pipe.named_steps['classifier'].coef_, \n",
    "        index=lasso_pipe.named_steps['preprocessor'].get_feature_names_out())"
   ]
  },
  {
   "cell_type": "code",
   "execution_count": 99,
   "id": "dcd9c016-2b37-43f4-aead-f4db4558074f",
   "metadata": {},
   "outputs": [
    {
     "data": {
      "text/plain": [
       "overall_cond_2      -12929.894114\n",
       "overall_cond_3      -11993.864034\n",
       "bsmt_cond_2.0        -8516.231447\n",
       "overall_qual_4       -7639.261346\n",
       "overall_cond_4       -6127.787860\n",
       "                         ...     \n",
       "gr_liv_area          22120.671408\n",
       "overall_qual_8       24705.529883\n",
       "roof_matl_WdShngl    35417.521047\n",
       "overall_qual_9       53680.716768\n",
       "overall_qual_10      84908.616006\n",
       "Length: 76, dtype: float64"
      ]
     },
     "execution_count": 99,
     "metadata": {},
     "output_type": "execute_result"
    }
   ],
   "source": [
    "model_coefs[model_coefs != 0].sort_values()"
   ]
  },
  {
   "cell_type": "code",
   "execution_count": null,
   "id": "8644d3d4-d7b1-44f0-b373-f177dab722d7",
   "metadata": {},
   "outputs": [],
   "source": []
  }
 ],
 "metadata": {
  "kernelspec": {
   "display_name": "Python 3 (ipykernel)",
   "language": "python",
   "name": "python3"
  },
  "language_info": {
   "codemirror_mode": {
    "name": "ipython",
    "version": 3
   },
   "file_extension": ".py",
   "mimetype": "text/x-python",
   "name": "python",
   "nbconvert_exporter": "python",
   "pygments_lexer": "ipython3",
   "version": "3.9.7"
  }
 },
 "nbformat": 4,
 "nbformat_minor": 5
}

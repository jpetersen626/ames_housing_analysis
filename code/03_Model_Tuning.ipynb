{
 "cells": [
  {
   "cell_type": "markdown",
   "id": "3934226c-58ce-4f49-a141-393d349f05cf",
   "metadata": {},
   "source": [
    "## Model Tuning"
   ]
  },
  {
   "cell_type": "code",
   "execution_count": 13,
   "id": "b93d3b52-3021-4666-9234-b34596d3926b",
   "metadata": {},
   "outputs": [],
   "source": [
    "import pandas as pd\n",
    "import numpy as np\n",
    "import seaborn as sns\n",
    "import matplotlib.pyplot as plt\n",
    "from sklearn.linear_model import LinearRegression, LassoCV, RidgeCV, Lasso, Ridge\n",
    "from sklearn.preprocessing import PolynomialFeatures, StandardScaler\n",
    "from sklearn.metrics import r2_score, mean_squared_error\n",
    "from sklearn.model_selection import train_test_split, cross_val_score\n",
    "from joblib import dump, load\n",
    "from sklearn.pipeline import Pipeline"
   ]
  },
  {
   "cell_type": "code",
   "execution_count": 8,
   "id": "fbd63a19-4ecd-47ae-b89f-f9729819240a",
   "metadata": {},
   "outputs": [],
   "source": [
    "train = pd.read_csv('../datasets/train_cleaned.csv', keep_default_na=False, na_values='')\n",
    "test = pd.read_csv('../datasets/test_cleaned.csv', keep_default_na=False, na_values='')"
   ]
  },
  {
   "cell_type": "code",
   "execution_count": 16,
   "id": "de01f5db-d7d2-4e58-a9da-012d802591c5",
   "metadata": {},
   "outputs": [],
   "source": [
    "model_loaded = load('pipe_model.joblib')"
   ]
  },
  {
   "cell_type": "code",
   "execution_count": 17,
   "id": "a5e15b3f-3ff3-4f27-bcfe-ad942d8a88a8",
   "metadata": {},
   "outputs": [],
   "source": [
    "X = train[['mas_vnr_area', 'bsmtfin_sf_1', 'total_bsmt_sf', \n",
    "    '1st_flr_sf', 'gr_liv_area', 'garage_area', 'overall_qual', \n",
    "    'overall_cond', 'roof_matl', 'mas_vnr_type', 'foundation', \n",
    "    'exter_qual', 'exter_cond', 'bsmt_qual','bsmt_cond', \n",
    "    'bsmt_exposure', 'bsmtfin_type_1', 'bsmtfin_type_2', \n",
    "    'heating_qc', 'central_air', 'electrical','bsmt_full_bath', \n",
    "    'full_bath', 'kitchen_qual', 'totrms_abvgrd', 'fireplaces', \n",
    "    'fireplace_qu', 'garage_type', 'garage_finish', 'garage_cars', \n",
    "    'garage_qual', 'paved_drive']]\n",
    "y = train['saleprice']\n",
    "\n",
    "X_train, X_test, y_train, y_test = train_test_split(X, y, test_size=0.2, random_state=42)"
   ]
  },
  {
   "cell_type": "code",
   "execution_count": 23,
   "id": "8428b9cc-8bad-435f-8060-7ecc6493e224",
   "metadata": {},
   "outputs": [
    {
     "data": {
      "text/plain": [
       "(2036, 32)"
      ]
     },
     "execution_count": 23,
     "metadata": {},
     "output_type": "execute_result"
    }
   ],
   "source": [
    "X.shape"
   ]
  },
  {
   "cell_type": "code",
   "execution_count": 24,
   "id": "4ad1a1ba-0d8e-42c9-8d14-4655330b9bc1",
   "metadata": {},
   "outputs": [
    {
     "data": {
      "text/plain": [
       "(2036, 81)"
      ]
     },
     "execution_count": 24,
     "metadata": {},
     "output_type": "execute_result"
    }
   ],
   "source": [
    "train.shape"
   ]
  },
  {
   "cell_type": "code",
   "execution_count": null,
   "id": "906c5a9c-12c6-465b-8b7f-e703eda00c0a",
   "metadata": {},
   "outputs": [],
   "source": []
  }
 ],
 "metadata": {
  "kernelspec": {
   "display_name": "Python 3 (ipykernel)",
   "language": "python",
   "name": "python3"
  },
  "language_info": {
   "codemirror_mode": {
    "name": "ipython",
    "version": 3
   },
   "file_extension": ".py",
   "mimetype": "text/x-python",
   "name": "python",
   "nbconvert_exporter": "python",
   "pygments_lexer": "ipython3",
   "version": "3.9.7"
  }
 },
 "nbformat": 4,
 "nbformat_minor": 5
}

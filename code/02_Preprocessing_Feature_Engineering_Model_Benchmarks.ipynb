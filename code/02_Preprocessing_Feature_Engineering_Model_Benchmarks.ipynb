{
 "cells": [
  {
   "cell_type": "markdown",
   "id": "8a1b63dc-dfbb-4273-90da-f65e9fd41673",
   "metadata": {},
   "source": [
    "## Preprocessing and Feature Engineering"
   ]
  },
  {
   "cell_type": "code",
   "execution_count": 1,
   "id": "21b045b2-61b3-4ade-9c66-6f784269eb9c",
   "metadata": {},
   "outputs": [],
   "source": [
    "import pandas as pd\n",
    "import numpy as np\n",
    "import matplotlib.pyplot as plt\n",
    "import seaborn as sns\n",
    "from sklearn.impute import SimpleImputer\n",
    "from sklearn.preprocessing import StandardScaler, OneHotEncoder\n",
    "from sklearn.linear_model import LinearRegression\n",
    "from sklearn.model_selection import train_test_split, cross_val_score\n",
    "from sklearn.metrics import r2_score, mean_squared_error\n",
    "from sklearn.compose import ColumnTransformer\n",
    "from sklearn.pipeline import Pipeline"
   ]
  },
  {
   "cell_type": "code",
   "execution_count": 2,
   "id": "7a0432b6-9ab6-4e36-8bb5-5f24761d94b8",
   "metadata": {},
   "outputs": [],
   "source": [
    "train = pd.read_csv('../datasets/train_cleaned.csv', keep_default_na=False, na_values='')\n",
    "test = pd.read_csv('../datasets/test_cleaned.csv', keep_default_na=False, na_values='')"
   ]
  },
  {
   "cell_type": "code",
   "execution_count": 3,
   "id": "46a2beab-8e05-4741-af60-cf87cbcc4fdd",
   "metadata": {},
   "outputs": [
    {
     "data": {
      "text/plain": [
       "lot_frontage      330\n",
       "garage_yr_blt     114\n",
       "mas_vnr_type       22\n",
       "mas_vnr_area       22\n",
       "bsmt_exposure       4\n",
       "bsmtfin_type_2      2\n",
       "bsmt_full_bath      2\n",
       "bsmt_half_bath      2\n",
       "garage_cond         1\n",
       "bsmt_qual           1\n",
       "garage_finish       1\n",
       "garage_cars         1\n",
       "garage_area         1\n",
       "garage_qual         1\n",
       "total_bsmt_sf       1\n",
       "bsmtfin_type_1      1\n",
       "bsmt_cond           1\n",
       "bsmtfin_sf_1        1\n",
       "bsmtfin_sf_2        1\n",
       "bsmt_unf_sf         1\n",
       "dtype: int64"
      ]
     },
     "execution_count": 3,
     "metadata": {},
     "output_type": "execute_result"
    }
   ],
   "source": [
    "train.isna().sum().sort_values(ascending=False).loc[lambda x: x > 0]"
   ]
  },
  {
   "cell_type": "code",
   "execution_count": 4,
   "id": "e75f7c35-df96-4eb3-83bf-ee1f19f0da2a",
   "metadata": {},
   "outputs": [],
   "source": [
    "X = train[['mas_vnr_area', 'bsmtfin_sf_1', 'total_bsmt_sf', '1st_flr_sf', 'gr_liv_area', 'garage_area']]\n",
    "y = train['saleprice']\n",
    "\n",
    "X_train, X_test, y_train, y_test = train_test_split(X, y, test_size=0.2, random_state=42)"
   ]
  },
  {
   "cell_type": "code",
   "execution_count": 5,
   "id": "3e96eb10-f1e5-438b-ac58-7af444f18216",
   "metadata": {},
   "outputs": [
    {
     "data": {
      "text/plain": [
       "((1628, 6), (408, 6), (878, 80))"
      ]
     },
     "execution_count": 5,
     "metadata": {},
     "output_type": "execute_result"
    }
   ],
   "source": [
    "X_train.shape, X_test.shape, test.shape"
   ]
  },
  {
   "cell_type": "code",
   "execution_count": 6,
   "id": "82a2b748-58bc-476c-8329-e7fca5f32620",
   "metadata": {},
   "outputs": [],
   "source": [
    "si = SimpleImputer(strategy='most_frequent')\n",
    "si.fit(X_train)\n",
    "X_train_filled = si.transform(X_train)\n",
    "X_train_filled = pd.DataFrame(X_train_filled, columns=X_train.columns)\n",
    "X_test_filled = si.transform(X_test)\n",
    "X_test_filled = pd.DataFrame(X_test_filled, columns=si.feature_names_in_)"
   ]
  },
  {
   "cell_type": "code",
   "execution_count": 7,
   "id": "7555e546-010d-412f-a48c-4043456cd742",
   "metadata": {
    "tags": []
   },
   "outputs": [
    {
     "data": {
      "text/plain": [
       "LinearRegression()"
      ]
     },
     "execution_count": 7,
     "metadata": {},
     "output_type": "execute_result"
    }
   ],
   "source": [
    "lr = LinearRegression()\n",
    "lr.fit(X_train_filled, y_train)"
   ]
  },
  {
   "cell_type": "code",
   "execution_count": 8,
   "id": "42c2efa1-4d04-4f78-ad87-921c55c7f55b",
   "metadata": {},
   "outputs": [
    {
     "data": {
      "text/plain": [
       "(0.7491278104750866, 0.7710962807576048)"
      ]
     },
     "execution_count": 8,
     "metadata": {},
     "output_type": "execute_result"
    }
   ],
   "source": [
    "lr.score(X_train_filled, y_train), lr.score(X_test_filled, y_test)"
   ]
  },
  {
   "cell_type": "code",
   "execution_count": 9,
   "id": "d1cb1f39-4d33-4ab9-9612-ad54dac8bfc0",
   "metadata": {},
   "outputs": [
    {
     "data": {
      "text/plain": [
       "(36341.730762700405, 37304.13166141556)"
      ]
     },
     "execution_count": 9,
     "metadata": {},
     "output_type": "execute_result"
    }
   ],
   "source": [
    "mean_squared_error(y_train, lr.predict(X_train_filled))**0.5, mean_squared_error(y_test, lr.predict(X_test_filled))**0.5"
   ]
  },
  {
   "cell_type": "code",
   "execution_count": 10,
   "id": "38b5e7f5-eb97-401b-bb3d-526f8ced8f1b",
   "metadata": {},
   "outputs": [
    {
     "data": {
      "text/plain": [
       "0.7408818048031779"
      ]
     },
     "execution_count": 10,
     "metadata": {},
     "output_type": "execute_result"
    }
   ],
   "source": [
    "cross_val_score(lr, X_train_filled, y_train, scoring='r2').mean()"
   ]
  },
  {
   "cell_type": "code",
   "execution_count": 11,
   "id": "f7fb74e3-c33d-43f0-b629-c51bc0c70544",
   "metadata": {},
   "outputs": [
    {
     "data": {
      "text/plain": [
       "78574.84257325473"
      ]
     },
     "execution_count": 11,
     "metadata": {},
     "output_type": "execute_result"
    }
   ],
   "source": [
    "baseline = np.full_like(y_test, y_train.mean())\n",
    "mean_squared_error(y_test, baseline)**0.5"
   ]
  },
  {
   "cell_type": "code",
   "execution_count": 12,
   "id": "8ca74839-dc3d-404a-aff5-0712af7fac97",
   "metadata": {},
   "outputs": [
    {
     "data": {
      "text/html": [
       "<div>\n",
       "<style scoped>\n",
       "    .dataframe tbody tr th:only-of-type {\n",
       "        vertical-align: middle;\n",
       "    }\n",
       "\n",
       "    .dataframe tbody tr th {\n",
       "        vertical-align: top;\n",
       "    }\n",
       "\n",
       "    .dataframe thead th {\n",
       "        text-align: right;\n",
       "    }\n",
       "</style>\n",
       "<table border=\"1\" class=\"dataframe\">\n",
       "  <thead>\n",
       "    <tr style=\"text-align: right;\">\n",
       "      <th></th>\n",
       "      <th>0</th>\n",
       "      <th>1</th>\n",
       "    </tr>\n",
       "  </thead>\n",
       "  <tbody>\n",
       "    <tr>\n",
       "      <th>0</th>\n",
       "      <td>mas_vnr_area</td>\n",
       "      <td>49.438406</td>\n",
       "    </tr>\n",
       "    <tr>\n",
       "      <th>1</th>\n",
       "      <td>bsmtfin_sf_1</td>\n",
       "      <td>25.748452</td>\n",
       "    </tr>\n",
       "    <tr>\n",
       "      <th>2</th>\n",
       "      <td>total_bsmt_sf</td>\n",
       "      <td>47.131638</td>\n",
       "    </tr>\n",
       "    <tr>\n",
       "      <th>3</th>\n",
       "      <td>1st_flr_sf</td>\n",
       "      <td>-5.384033</td>\n",
       "    </tr>\n",
       "    <tr>\n",
       "      <th>4</th>\n",
       "      <td>gr_liv_area</td>\n",
       "      <td>71.565796</td>\n",
       "    </tr>\n",
       "    <tr>\n",
       "      <th>5</th>\n",
       "      <td>garage_area</td>\n",
       "      <td>82.753464</td>\n",
       "    </tr>\n",
       "  </tbody>\n",
       "</table>\n",
       "</div>"
      ],
      "text/plain": [
       "               0          1\n",
       "0   mas_vnr_area  49.438406\n",
       "1   bsmtfin_sf_1  25.748452\n",
       "2  total_bsmt_sf  47.131638\n",
       "3     1st_flr_sf  -5.384033\n",
       "4    gr_liv_area  71.565796\n",
       "5    garage_area  82.753464"
      ]
     },
     "execution_count": 12,
     "metadata": {},
     "output_type": "execute_result"
    }
   ],
   "source": [
    "pd.DataFrame(zip(X_train.columns, lr.coef_))"
   ]
  },
  {
   "cell_type": "markdown",
   "id": "d651e17f-38da-4f9c-b9c8-a1964201603e",
   "metadata": {},
   "source": [
    "The model above was just with the columns that were already numeric - I wanted to see what the model looked like as is before one-hot-encoding the categorical values. It's doing better than the baseline as of right now."
   ]
  },
  {
   "cell_type": "code",
   "execution_count": 13,
   "id": "9d7d8d2e-7aaa-4b3a-b985-95bbe7dd0b8f",
   "metadata": {},
   "outputs": [],
   "source": [
    "# can use stats models for p values\n",
    "# can use regularization to check - lasso (anything that gets zeroed out for coefs doesn't really matter)"
   ]
  },
  {
   "cell_type": "markdown",
   "id": "b67dc9f9-8cae-4850-ad01-a7a6a0489ef0",
   "metadata": {},
   "source": [
    "---"
   ]
  },
  {
   "cell_type": "code",
   "execution_count": 44,
   "id": "4f1d5cc8-0669-4397-a62f-fb23c95d8284",
   "metadata": {},
   "outputs": [],
   "source": [
    "# https://scikit-learn.org/stable/auto_examples/compose/plot_column_transformer_mixed_types.html\n",
    "\n",
    "SimpleImputer.get_feature_names_out = (lambda self, names=None:\n",
    "                                       self.feature_names_in_)\n",
    "\n",
    "numeric = ['mas_vnr_area', 'bsmtfin_sf_1', 'total_bsmt_sf', '1st_flr_sf', 'gr_liv_area', 'garage_area']\n",
    "numeric_transformer = Pipeline(\n",
    "    steps = [\n",
    "        ('imputer', SimpleImputer(strategy='mean')),\n",
    "        ('ss', StandardScaler())\n",
    "    ])\n",
    "\n",
    "categorical = [\n",
    "    'overall_qual', 'overall_cond', 'roof_matl', 'mas_vnr_type', \n",
    "    'foundation', 'exter_qual', 'exter_cond', 'bsmt_qual',\n",
    "    'bsmt_cond', 'bsmt_exposure', 'bsmtfin_type_1', \n",
    "    'bsmtfin_type_2', 'heating_qc', 'central_air', 'electrical',\n",
    "    'bsmt_full_bath', 'full_bath', 'kitchen_qual', 'totrms_abvgrd',\n",
    "    'fireplaces', 'fireplace_qu', 'garage_type', 'garage_finish', \n",
    "    'garage_cars', 'garage_qual', 'paved_drive'\n",
    "]\n",
    "categorical_transformer = Pipeline(\n",
    "    steps = [\n",
    "        ('imputer', SimpleImputer(strategy='most_frequent')),\n",
    "        ('ohe', OneHotEncoder(drop='first', handle_unknown='ignore', sparse=False))\n",
    "    ])\n",
    "\n",
    "preprocessor = ColumnTransformer(\n",
    "    transformers = [\n",
    "        ('num', numeric_transformer, numeric),\n",
    "        ('cat', categorical_transformer, categorical)\n",
    "    ], remainder='passthrough', verbose_feature_names_out=False)\n",
    "\n",
    "lr_pipe = Pipeline(\n",
    "    steps = [\n",
    "        ('preprocessor', preprocessor),\n",
    "        ('classifier', LinearRegression())\n",
    "    ])"
   ]
  },
  {
   "cell_type": "code",
   "execution_count": 45,
   "id": "7bd1b6cc-3654-4681-8c9d-467575ab71bf",
   "metadata": {},
   "outputs": [],
   "source": [
    "X = train[['mas_vnr_area', 'bsmtfin_sf_1', 'total_bsmt_sf', \n",
    "    '1st_flr_sf', 'gr_liv_area', 'garage_area', 'overall_qual', \n",
    "    'overall_cond', 'roof_matl', 'mas_vnr_type', 'foundation', \n",
    "    'exter_qual', 'exter_cond', 'bsmt_qual','bsmt_cond', \n",
    "    'bsmt_exposure', 'bsmtfin_type_1', 'bsmtfin_type_2', \n",
    "    'heating_qc', 'central_air', 'electrical','bsmt_full_bath', \n",
    "    'full_bath', 'kitchen_qual', 'totrms_abvgrd', 'fireplaces', \n",
    "    'fireplace_qu', 'garage_type', 'garage_finish', 'garage_cars', \n",
    "    'garage_qual', 'paved_drive']]\n",
    "y = train['saleprice']\n",
    "\n",
    "X_train, X_test, y_train, y_test = train_test_split(X, y, test_size=0.2, random_state=42)"
   ]
  },
  {
   "cell_type": "code",
   "execution_count": 18,
   "id": "30af894f-dff6-4015-a4e1-30754deadfad",
   "metadata": {},
   "outputs": [
    {
     "ename": "KeyError",
     "evalue": "'ohe'",
     "output_type": "error",
     "traceback": [
      "\u001b[1;31m---------------------------------------------------------------------------\u001b[0m",
      "\u001b[1;31mKeyError\u001b[0m                                  Traceback (most recent call last)",
      "\u001b[1;32m~\\AppData\\Local\\Temp/ipykernel_12656/3650722208.py\u001b[0m in \u001b[0;36m<module>\u001b[1;34m\u001b[0m\n\u001b[0;32m      2\u001b[0m \u001b[1;33m\u001b[0m\u001b[0m\n\u001b[0;32m      3\u001b[0m \u001b[0mtransformed\u001b[0m \u001b[1;33m=\u001b[0m \u001b[0mpreprocessor\u001b[0m\u001b[1;33m.\u001b[0m\u001b[0mfit_transform\u001b[0m\u001b[1;33m(\u001b[0m\u001b[0mX_train\u001b[0m\u001b[1;33m)\u001b[0m\u001b[1;33m\u001b[0m\u001b[1;33m\u001b[0m\u001b[0m\n\u001b[1;32m----> 4\u001b[1;33m df_transform = pd.DataFrame(transformed, columns=lr_pipe.named_steps['preprocessor'].transformers_[0][1]\\\n\u001b[0m\u001b[0;32m      5\u001b[0m    .named_steps['ohe'].get_feature_names_out())\n\u001b[0;32m      6\u001b[0m \u001b[0mdf_transform\u001b[0m\u001b[1;33m.\u001b[0m\u001b[0mhead\u001b[0m\u001b[1;33m(\u001b[0m\u001b[1;33m)\u001b[0m\u001b[1;33m\u001b[0m\u001b[1;33m\u001b[0m\u001b[0m\n",
      "\u001b[1;31mKeyError\u001b[0m: 'ohe'"
     ]
    }
   ],
   "source": [
    "# https://stackoverflow.com/questions/54646709/sklearn-pipeline-get-feature-names-after-onehotencode-in-columntransformer\n",
    "\n",
    "transformed = preprocessor.fit_transform(X_train)\n",
    "df_transform = pd.DataFrame(transformed, columns=lr_pipe.named_steps['preprocessor'].transformers_[0][1]\\\n",
    "   .named_steps['ohe'].get_feature_names_out())\n",
    "df_transform.head()"
   ]
  },
  {
   "cell_type": "code",
   "execution_count": 19,
   "id": "adf01f75-7333-47bb-8be2-b813fa675d91",
   "metadata": {},
   "outputs": [
    {
     "data": {
      "text/plain": [
       "(1628, 128)"
      ]
     },
     "execution_count": 19,
     "metadata": {},
     "output_type": "execute_result"
    }
   ],
   "source": [
    "transformed.shape"
   ]
  },
  {
   "cell_type": "code",
   "execution_count": 46,
   "id": "08d68901-d58f-4c31-b8ff-432b71422a2a",
   "metadata": {},
   "outputs": [
    {
     "data": {
      "text/plain": [
       "Pipeline(steps=[('preprocessor',\n",
       "                 ColumnTransformer(remainder='passthrough',\n",
       "                                   transformers=[('num',\n",
       "                                                  Pipeline(steps=[('imputer',\n",
       "                                                                   SimpleImputer()),\n",
       "                                                                  ('ss',\n",
       "                                                                   StandardScaler())]),\n",
       "                                                  ['mas_vnr_area',\n",
       "                                                   'bsmtfin_sf_1',\n",
       "                                                   'total_bsmt_sf',\n",
       "                                                   '1st_flr_sf', 'gr_liv_area',\n",
       "                                                   'garage_area']),\n",
       "                                                 ('cat',\n",
       "                                                  Pipeline(steps=[('imputer',\n",
       "                                                                   SimpleImputer(strategy='most_frequent')),\n",
       "                                                                  ('ohe',\n",
       "                                                                   OneHotEncoder...\n",
       "                                                   'exter_qual', 'exter_cond',\n",
       "                                                   'bsmt_qual', 'bsmt_cond',\n",
       "                                                   'bsmt_exposure',\n",
       "                                                   'bsmtfin_type_1',\n",
       "                                                   'bsmtfin_type_2',\n",
       "                                                   'heating_qc', 'central_air',\n",
       "                                                   'electrical',\n",
       "                                                   'bsmt_full_bath',\n",
       "                                                   'full_bath', 'kitchen_qual',\n",
       "                                                   'totrms_abvgrd',\n",
       "                                                   'fireplaces', 'fireplace_qu',\n",
       "                                                   'garage_type',\n",
       "                                                   'garage_finish',\n",
       "                                                   'garage_cars', 'garage_qual',\n",
       "                                                   'paved_drive'])],\n",
       "                                   verbose_feature_names_out=False)),\n",
       "                ('classifier', LinearRegression())])"
      ]
     },
     "execution_count": 46,
     "metadata": {},
     "output_type": "execute_result"
    }
   ],
   "source": [
    "lr_pipe.fit(X_train, y_train)"
   ]
  },
  {
   "cell_type": "code",
   "execution_count": 47,
   "id": "f3829730-4a58-4056-a037-8d379c26a633",
   "metadata": {},
   "outputs": [
    {
     "name": "stderr",
     "output_type": "stream",
     "text": [
      "C:\\Users\\jacki\\anaconda3\\lib\\site-packages\\sklearn\\preprocessing\\_encoders.py:170: UserWarning: Found unknown categories in columns [18] during transform. These unknown categories will be encoded as all zeros\n",
      "  warnings.warn(\n"
     ]
    },
    {
     "data": {
      "text/plain": [
       "(0.9187163577390317, -4.6252552309704925e+19)"
      ]
     },
     "execution_count": 47,
     "metadata": {},
     "output_type": "execute_result"
    }
   ],
   "source": [
    "lr_pipe.score(X_train, y_train), lr_pipe.score(X_test, y_test)"
   ]
  },
  {
   "cell_type": "code",
   "execution_count": 48,
   "id": "262301f1-e78d-471e-bcd1-cead6aaef4f1",
   "metadata": {},
   "outputs": [
    {
     "data": {
      "text/plain": [
       "array(['mas_vnr_area', 'bsmtfin_sf_1', 'total_bsmt_sf', '1st_flr_sf',\n",
       "       'gr_liv_area', 'garage_area', 'overall_qual_2', 'overall_qual_3',\n",
       "       'overall_qual_4', 'overall_qual_5', 'overall_qual_6',\n",
       "       'overall_qual_7', 'overall_qual_8', 'overall_qual_9',\n",
       "       'overall_qual_10', 'overall_cond_2', 'overall_cond_3',\n",
       "       'overall_cond_4', 'overall_cond_5', 'overall_cond_6',\n",
       "       'overall_cond_7', 'overall_cond_8', 'overall_cond_9',\n",
       "       'roof_matl_Membran', 'roof_matl_Tar&Grv', 'roof_matl_WdShake',\n",
       "       'roof_matl_WdShngl', 'mas_vnr_type_BrkFace', 'mas_vnr_type_None',\n",
       "       'mas_vnr_type_Stone', 'foundation_CBlock', 'foundation_PConc',\n",
       "       'foundation_Slab', 'foundation_Stone', 'foundation_Wood',\n",
       "       'exter_qual_3', 'exter_qual_4', 'exter_qual_5', 'exter_cond_2',\n",
       "       'exter_cond_3', 'exter_cond_4', 'exter_cond_5', 'bsmt_qual_1.0',\n",
       "       'bsmt_qual_2.0', 'bsmt_qual_3.0', 'bsmt_qual_4.0', 'bsmt_qual_5.0',\n",
       "       'bsmt_cond_1.0', 'bsmt_cond_2.0', 'bsmt_cond_3.0', 'bsmt_cond_4.0',\n",
       "       'bsmt_cond_5.0', 'bsmt_exposure_1.0', 'bsmt_exposure_2.0',\n",
       "       'bsmt_exposure_3.0', 'bsmt_exposure_4.0', 'bsmtfin_type_1_1.0',\n",
       "       'bsmtfin_type_1_2.0', 'bsmtfin_type_1_3.0', 'bsmtfin_type_1_4.0',\n",
       "       'bsmtfin_type_1_5.0', 'bsmtfin_type_1_6.0', 'bsmtfin_type_2_1.0',\n",
       "       'bsmtfin_type_2_2.0', 'bsmtfin_type_2_3.0', 'bsmtfin_type_2_4.0',\n",
       "       'bsmtfin_type_2_5.0', 'bsmtfin_type_2_6.0', 'heating_qc_2',\n",
       "       'heating_qc_3', 'heating_qc_4', 'heating_qc_5', 'central_air_Y',\n",
       "       'electrical_2', 'electrical_3', 'electrical_4', 'electrical_5',\n",
       "       'bsmt_full_bath_1.0', 'bsmt_full_bath_2.0', 'bsmt_full_bath_3.0',\n",
       "       'full_bath_1', 'full_bath_2', 'full_bath_3', 'full_bath_4',\n",
       "       'kitchen_qual_3', 'kitchen_qual_4', 'kitchen_qual_5',\n",
       "       'totrms_abvgrd_4', 'totrms_abvgrd_5', 'totrms_abvgrd_6',\n",
       "       'totrms_abvgrd_7', 'totrms_abvgrd_8', 'totrms_abvgrd_9',\n",
       "       'totrms_abvgrd_10', 'totrms_abvgrd_11', 'totrms_abvgrd_12',\n",
       "       'totrms_abvgrd_13', 'totrms_abvgrd_14', 'fireplaces_1',\n",
       "       'fireplaces_2', 'fireplaces_3', 'fireplaces_4', 'fireplace_qu_1',\n",
       "       'fireplace_qu_2', 'fireplace_qu_3', 'fireplace_qu_4',\n",
       "       'fireplace_qu_5', 'garage_type_Attchd', 'garage_type_Basment',\n",
       "       'garage_type_BuiltIn', 'garage_type_CarPort', 'garage_type_Detchd',\n",
       "       'garage_type_NA', 'garage_finish_1.0', 'garage_finish_2.0',\n",
       "       'garage_finish_3.0', 'garage_cars_1.0', 'garage_cars_2.0',\n",
       "       'garage_cars_3.0', 'garage_cars_4.0', 'garage_cars_5.0',\n",
       "       'garage_qual_1.0', 'garage_qual_2.0', 'garage_qual_3.0',\n",
       "       'garage_qual_4.0', 'garage_qual_5.0', 'paved_drive_2',\n",
       "       'paved_drive_3'], dtype=object)"
      ]
     },
     "execution_count": 48,
     "metadata": {},
     "output_type": "execute_result"
    }
   ],
   "source": [
    "lr_pipe.named_steps['preprocessor'].get_feature_names_out()"
   ]
  },
  {
   "cell_type": "code",
   "execution_count": 55,
   "id": "6c93d5a6-c850-413c-8bd7-4899f2b846e9",
   "metadata": {},
   "outputs": [
    {
     "data": {
      "text/plain": [
       "mas_vnr_area       3.886768e+03\n",
       "bsmtfin_sf_1       6.235480e+03\n",
       "total_bsmt_sf      7.644873e+03\n",
       "1st_flr_sf         1.642373e+03\n",
       "gr_liv_area        2.319474e+04\n",
       "                       ...     \n",
       "garage_qual_3.0    1.129755e+16\n",
       "garage_qual_4.0    1.129755e+16\n",
       "garage_qual_5.0    1.129755e+16\n",
       "paved_drive_2     -2.489064e+03\n",
       "paved_drive_3      8.267927e+03\n",
       "Length: 128, dtype: float64"
      ]
     },
     "execution_count": 55,
     "metadata": {},
     "output_type": "execute_result"
    }
   ],
   "source": [
    "pd.Series(lr_pipe.named_steps['classifier'].coef_, index=lr_pipe.named_steps['preprocessor'].get_feature_names_out())"
   ]
  },
  {
   "cell_type": "code",
   "execution_count": 110,
   "id": "2ed62b93-959a-4748-99a3-058554f016cf",
   "metadata": {},
   "outputs": [
    {
     "data": {
      "text/plain": [
       "['pipe_model.joblib']"
      ]
     },
     "execution_count": 110,
     "metadata": {},
     "output_type": "execute_result"
    }
   ],
   "source": [
    "from joblib import dump, load\n",
    "dump(lr_pipe, 'pipe_model.joblib')"
   ]
  },
  {
   "cell_type": "code",
   "execution_count": null,
   "id": "c384535e-da45-43a1-8538-b32e5d8a4a2b",
   "metadata": {},
   "outputs": [],
   "source": []
  }
 ],
 "metadata": {
  "kernelspec": {
   "display_name": "Python 3 (ipykernel)",
   "language": "python",
   "name": "python3"
  },
  "language_info": {
   "codemirror_mode": {
    "name": "ipython",
    "version": 3
   },
   "file_extension": ".py",
   "mimetype": "text/x-python",
   "name": "python",
   "nbconvert_exporter": "python",
   "pygments_lexer": "ipython3",
   "version": "3.9.7"
  }
 },
 "nbformat": 4,
 "nbformat_minor": 5
}

{
 "cells": [
  {
   "cell_type": "markdown",
   "id": "8a1b63dc-dfbb-4273-90da-f65e9fd41673",
   "metadata": {},
   "source": [
    "## Preprocessing and Feature Engineering"
   ]
  },
  {
   "cell_type": "code",
   "execution_count": 75,
   "id": "21b045b2-61b3-4ade-9c66-6f784269eb9c",
   "metadata": {},
   "outputs": [],
   "source": [
    "import pandas as pd\n",
    "import numpy as np\n",
    "import matplotlib.pyplot as plt\n",
    "import seaborn as sns\n",
    "from sklearn.impute import SimpleImputer\n",
    "from sklearn.preprocessing import StandardScaler\n",
    "from sklearn.linear_model import LinearRegression\n",
    "from sklearn.model_selection import train_test_split, cross_val_score\n",
    "from sklearn.metrics import r2_score, mean_squared_error\n",
    "from sklearn.compose import make_column_transformer"
   ]
  },
  {
   "cell_type": "code",
   "execution_count": 17,
   "id": "7a0432b6-9ab6-4e36-8bb5-5f24761d94b8",
   "metadata": {},
   "outputs": [],
   "source": [
    "train = pd.read_csv('../datasets/train_cleaned.csv', keep_default_na=False, na_values='')\n",
    "test = pd.read_csv('../datasets/test_cleaned.csv', keep_default_na=False, na_values='')"
   ]
  },
  {
   "cell_type": "code",
   "execution_count": 18,
   "id": "46a2beab-8e05-4741-af60-cf87cbcc4fdd",
   "metadata": {},
   "outputs": [
    {
     "data": {
      "text/plain": [
       "lot_frontage      330\n",
       "garage_yr_blt     114\n",
       "mas_vnr_type       22\n",
       "mas_vnr_area       22\n",
       "bsmt_exposure       4\n",
       "bsmtfin_type_2      2\n",
       "bsmt_full_bath      2\n",
       "bsmt_half_bath      2\n",
       "garage_cond         1\n",
       "bsmt_qual           1\n",
       "garage_finish       1\n",
       "garage_cars         1\n",
       "garage_area         1\n",
       "garage_qual         1\n",
       "total_bsmt_sf       1\n",
       "bsmtfin_type_1      1\n",
       "bsmt_cond           1\n",
       "bsmtfin_sf_1        1\n",
       "bsmtfin_sf_2        1\n",
       "bsmt_unf_sf         1\n",
       "dtype: int64"
      ]
     },
     "execution_count": 18,
     "metadata": {},
     "output_type": "execute_result"
    }
   ],
   "source": [
    "train.isna().sum().sort_values(ascending=False).loc[lambda x: x > 0]"
   ]
  },
  {
   "cell_type": "code",
   "execution_count": 54,
   "id": "e75f7c35-df96-4eb3-83bf-ee1f19f0da2a",
   "metadata": {},
   "outputs": [],
   "source": [
    "X = train[['mas_vnr_area', 'bsmtfin_sf_1', 'total_bsmt_sf', '1st_flr_sf', 'gr_liv_area', 'garage_area']]\n",
    "y = train['saleprice']\n",
    "\n",
    "X_train, X_test, y_train, y_test = train_test_split(X, y, test_size=0.2, random_state=42)"
   ]
  },
  {
   "cell_type": "code",
   "execution_count": 55,
   "id": "3e96eb10-f1e5-438b-ac58-7af444f18216",
   "metadata": {},
   "outputs": [
    {
     "data": {
      "text/plain": [
       "((1628, 6), (408, 6), (878, 80))"
      ]
     },
     "execution_count": 55,
     "metadata": {},
     "output_type": "execute_result"
    }
   ],
   "source": [
    "X_train.shape, X_test.shape, test.shape"
   ]
  },
  {
   "cell_type": "code",
   "execution_count": 68,
   "id": "82a2b748-58bc-476c-8329-e7fca5f32620",
   "metadata": {},
   "outputs": [],
   "source": [
    "si = SimpleImputer(strategy='most_frequent')\n",
    "si.fit(X_train)\n",
    "X_train_filled = si.transform(X_train)\n",
    "X_train_filled = pd.DataFrame(X_train_filled, columns=X_train.columns)\n",
    "X_test_filled = si.transform(X_test)\n",
    "X_test_filled = pd.DataFrame(X_test_filled, columns=si.feature_names_in_)"
   ]
  },
  {
   "cell_type": "code",
   "execution_count": 69,
   "id": "cb83e644-1e4d-4763-97f2-20500f6178c9",
   "metadata": {},
   "outputs": [],
   "source": [
    "ss = StandardScaler()\n",
    "\n",
    "X_train_sc = ss.fit_transform(X_train_filled)\n",
    "X_train_sc = pd.DataFrame(X_train_sc, columns=ss.get_feature_names_out())\n",
    "\n",
    "X_test_sc = ss.transform(X_test_filled)\n",
    "X_test_sc = pd.DataFrame(X_test_sc, columns=ss.get_feature_names_out())"
   ]
  },
  {
   "cell_type": "code",
   "execution_count": 70,
   "id": "7555e546-010d-412f-a48c-4043456cd742",
   "metadata": {
    "tags": []
   },
   "outputs": [
    {
     "data": {
      "text/plain": [
       "LinearRegression()"
      ]
     },
     "execution_count": 70,
     "metadata": {},
     "output_type": "execute_result"
    }
   ],
   "source": [
    "lr = LinearRegression()\n",
    "lr.fit(X_train_sc, y_train)"
   ]
  },
  {
   "cell_type": "code",
   "execution_count": 71,
   "id": "42c2efa1-4d04-4f78-ad87-921c55c7f55b",
   "metadata": {},
   "outputs": [
    {
     "data": {
      "text/plain": [
       "(0.7491278104750865, 0.7710962807576048)"
      ]
     },
     "execution_count": 71,
     "metadata": {},
     "output_type": "execute_result"
    }
   ],
   "source": [
    "lr.score(X_train_sc, y_train), lr.score(X_test_sc, y_test)"
   ]
  },
  {
   "cell_type": "code",
   "execution_count": 72,
   "id": "d1cb1f39-4d33-4ab9-9612-ad54dac8bfc0",
   "metadata": {},
   "outputs": [
    {
     "data": {
      "text/plain": [
       "(36341.730762700405, 37304.13166141556)"
      ]
     },
     "execution_count": 72,
     "metadata": {},
     "output_type": "execute_result"
    }
   ],
   "source": [
    "mean_squared_error(y_train, lr.predict(X_train_sc))**0.5, mean_squared_error(y_test, lr.predict(X_test_sc))**0.5"
   ]
  },
  {
   "cell_type": "code",
   "execution_count": 73,
   "id": "38b5e7f5-eb97-401b-bb3d-526f8ced8f1b",
   "metadata": {},
   "outputs": [
    {
     "data": {
      "text/plain": [
       "0.7408818048031779"
      ]
     },
     "execution_count": 73,
     "metadata": {},
     "output_type": "execute_result"
    }
   ],
   "source": [
    "cross_val_score(lr, X_train_sc, y_train, scoring='r2').mean()"
   ]
  },
  {
   "cell_type": "code",
   "execution_count": 74,
   "id": "f7fb74e3-c33d-43f0-b629-c51bc0c70544",
   "metadata": {},
   "outputs": [
    {
     "data": {
      "text/plain": [
       "78574.84257325473"
      ]
     },
     "execution_count": 74,
     "metadata": {},
     "output_type": "execute_result"
    }
   ],
   "source": [
    "baseline = np.full_like(y_test, y_train.mean())\n",
    "mean_squared_error(y_test, baseline)**0.5"
   ]
  },
  {
   "cell_type": "code",
   "execution_count": null,
   "id": "8ca74839-dc3d-404a-aff5-0712af7fac97",
   "metadata": {},
   "outputs": [],
   "source": []
  }
 ],
 "metadata": {
  "kernelspec": {
   "display_name": "Python 3 (ipykernel)",
   "language": "python",
   "name": "python3"
  },
  "language_info": {
   "codemirror_mode": {
    "name": "ipython",
    "version": 3
   },
   "file_extension": ".py",
   "mimetype": "text/x-python",
   "name": "python",
   "nbconvert_exporter": "python",
   "pygments_lexer": "ipython3",
   "version": "3.9.7"
  }
 },
 "nbformat": 4,
 "nbformat_minor": 5
}
